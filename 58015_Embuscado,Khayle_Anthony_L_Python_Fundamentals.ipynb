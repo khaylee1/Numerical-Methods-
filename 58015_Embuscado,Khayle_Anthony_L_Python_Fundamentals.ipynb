{
  "nbformat": 4,
  "nbformat_minor": 0,
  "metadata": {
    "colab": {
      "name": " 58015_Embuscado,Khayle Anthony L_Python Fundamentals",
      "provenance": [],
      "collapsed_sections": [],
      "authorship_tag": "ABX9TyM93FqIDvmNADLfMX+OTAdn",
      "include_colab_link": true
    },
    "kernelspec": {
      "display_name": "Python 3",
      "name": "python3"
    }
  },
  "cells": [
    {
      "cell_type": "markdown",
      "metadata": {
        "id": "view-in-github",
        "colab_type": "text"
      },
      "source": [
        "<a href=\"https://colab.research.google.com/github/khaylee1/Numerical-Methods-/blob/main/58015_Embuscado%2CKhayle_Anthony_L_Python_Fundamentals.ipynb\" target=\"_parent\"><img src=\"https://colab.research.google.com/assets/colab-badge.svg\" alt=\"Open In Colab\"/></a>"
      ]
    },
    {
      "cell_type": "markdown",
      "metadata": {
        "id": "cLcEyECxWbAv"
      },
      "source": [
        "# Welcome to Python Fundamentals\r\n",
        "*By:K.A Embuscado*©2021<br>\r\n",
        "<br>\r\n",
        "In this module, we are going to establish or review our skills in Python programming. In this notebook we are going to cover:\r\n",
        "* Variables and Data Types \r\n",
        "* Operations\r\n",
        "* Input and Output Operations\r\n",
        "* Logic Control\r\n",
        "* Iterables\r\n",
        "* Functions"
      ]
    },
    {
      "cell_type": "markdown",
      "metadata": {
        "id": "EgnkYScYWWqf"
      },
      "source": [
        "## Variable and Data Types"
      ]
    },
    {
      "cell_type": "markdown",
      "metadata": {
        "id": "nNp3JoWAtYdp"
      },
      "source": [
        "##Discussion<br>\r\n",
        "<b><i>variables</i></b> are memory locations that hold values of a specific type. <b><i>Data types</b></i> indicate the type of data that a variable hold. Example of data type are Boolean,Byte,Integer,Long,Single,Double,Currency,Date,Object,String, and Variant. below are sample codes of some data types  "
      ]
    },
    {
      "cell_type": "code",
      "metadata": {
        "id": "vFBLmXtuWe3t"
      },
      "source": [
        "x = 1\r\n",
        "a,b = 0, -1"
      ],
      "execution_count": null,
      "outputs": []
    },
    {
      "cell_type": "code",
      "metadata": {
        "colab": {
          "base_uri": "https://localhost:8080/"
        },
        "id": "fvjn9NteWmBe",
        "outputId": "6fc861a7-d7a2-45a2-ce34-cbe8fa0ab79e"
      },
      "source": [
        "type(x)"
      ],
      "execution_count": null,
      "outputs": [
        {
          "output_type": "execute_result",
          "data": {
            "text/plain": [
              "int"
            ]
          },
          "metadata": {
            "tags": []
          },
          "execution_count": 2
        }
      ]
    },
    {
      "cell_type": "code",
      "metadata": {
        "colab": {
          "base_uri": "https://localhost:8080/"
        },
        "id": "ZzHUdXJCWogO",
        "outputId": "10b55cf8-d31f-4d0e-94ca-5d02487e6159"
      },
      "source": [
        "y = 1.0\r\n",
        "type(y)"
      ],
      "execution_count": null,
      "outputs": [
        {
          "output_type": "execute_result",
          "data": {
            "text/plain": [
              "float"
            ]
          },
          "metadata": {
            "tags": []
          },
          "execution_count": 3
        }
      ]
    },
    {
      "cell_type": "code",
      "metadata": {
        "id": "CZS5TLOyWome"
      },
      "source": [
        "x = float(x)\r\n"
      ],
      "execution_count": null,
      "outputs": []
    },
    {
      "cell_type": "code",
      "metadata": {
        "colab": {
          "base_uri": "https://localhost:8080/"
        },
        "id": "KPUMQ9eMWopg",
        "outputId": "62a7eb88-6a56-4ce5-ff97-96defa9fc916"
      },
      "source": [
        "s,t,u = \"0\", '1', 'one'\r\n",
        "type(s)"
      ],
      "execution_count": null,
      "outputs": [
        {
          "output_type": "execute_result",
          "data": {
            "text/plain": [
              "str"
            ]
          },
          "metadata": {
            "tags": []
          },
          "execution_count": 5
        }
      ]
    },
    {
      "cell_type": "code",
      "metadata": {
        "colab": {
          "base_uri": "https://localhost:8080/"
        },
        "id": "kJK0FUQ4WosG",
        "outputId": "311c9165-cc35-4a81-8221-3b24c099af06"
      },
      "source": [
        "s_int = int(s)\r\n",
        "s_int"
      ],
      "execution_count": null,
      "outputs": [
        {
          "output_type": "execute_result",
          "data": {
            "text/plain": [
              "0"
            ]
          },
          "metadata": {
            "tags": []
          },
          "execution_count": 6
        }
      ]
    },
    {
      "cell_type": "markdown",
      "metadata": {
        "id": "M5gIQuueWv2G"
      },
      "source": [
        "## Operations"
      ]
    },
    {
      "cell_type": "markdown",
      "metadata": {
        "id": "oLOSPUKPW232"
      },
      "source": [
        "### Arithmetic"
      ]
    },
    {
      "cell_type": "markdown",
      "metadata": {
        "id": "QPvVkEHA2mWU"
      },
      "source": [
        "##Discussion<br>\r\n",
        "<b><i>Arithmetic</b></i> is a branch of mathematics which deals which deals with numbers using various operations such as addition, subtraction, multiplication, and division\r\n"
      ]
    },
    {
      "cell_type": "code",
      "metadata": {
        "id": "ayZ9L065Woxl"
      },
      "source": [
        "a,b,c,d = 2.0, -0.5, 0, -32"
      ],
      "execution_count": null,
      "outputs": []
    },
    {
      "cell_type": "code",
      "metadata": {
        "colab": {
          "base_uri": "https://localhost:8080/"
        },
        "id": "Wy1lO5E3Woz-",
        "outputId": "13990101-7eeb-40d3-d16b-a7a45c6e3167"
      },
      "source": [
        "### Addition\r\n",
        "S = a+b\r\n",
        "S"
      ],
      "execution_count": null,
      "outputs": [
        {
          "output_type": "execute_result",
          "data": {
            "text/plain": [
              "1.5"
            ]
          },
          "metadata": {
            "tags": []
          },
          "execution_count": 8
        }
      ]
    },
    {
      "cell_type": "code",
      "metadata": {
        "colab": {
          "base_uri": "https://localhost:8080/"
        },
        "id": "1WRpiJXGWo3F",
        "outputId": "52d18976-44cb-439a-f5bd-829795095d2c"
      },
      "source": [
        "### Subtraction\r\n",
        "D = b-d\r\n",
        "D"
      ],
      "execution_count": null,
      "outputs": [
        {
          "output_type": "execute_result",
          "data": {
            "text/plain": [
              "31.5"
            ]
          },
          "metadata": {
            "tags": []
          },
          "execution_count": 9
        }
      ]
    },
    {
      "cell_type": "code",
      "metadata": {
        "colab": {
          "base_uri": "https://localhost:8080/"
        },
        "id": "CfE05EDaWo5W",
        "outputId": "be9fec54-5f3d-4252-ab7a-4662e323912d"
      },
      "source": [
        "### Multiplication\r\n",
        "P = a*d\r\n",
        "P"
      ],
      "execution_count": null,
      "outputs": [
        {
          "output_type": "execute_result",
          "data": {
            "text/plain": [
              "-64.0"
            ]
          },
          "metadata": {
            "tags": []
          },
          "execution_count": 10
        }
      ]
    },
    {
      "cell_type": "code",
      "metadata": {
        "colab": {
          "base_uri": "https://localhost:8080/"
        },
        "id": "UkaE80JyWo82",
        "outputId": "2cca53e3-32f8-4b97-b0a7-44e8d4ea435b"
      },
      "source": [
        "### Division\r\n",
        "Q = c/a\r\n",
        "Q"
      ],
      "execution_count": null,
      "outputs": [
        {
          "output_type": "execute_result",
          "data": {
            "text/plain": [
              "0.0"
            ]
          },
          "metadata": {
            "tags": []
          },
          "execution_count": 11
        }
      ]
    },
    {
      "cell_type": "code",
      "metadata": {
        "colab": {
          "base_uri": "https://localhost:8080/"
        },
        "id": "y4o7m6RSW-_-",
        "outputId": "c2f89ad6-5339-4fe8-c183-de4c7f420de5"
      },
      "source": [
        "### Floor Division\r\n",
        "Fq = a//b\r\n",
        "Fq"
      ],
      "execution_count": null,
      "outputs": [
        {
          "output_type": "execute_result",
          "data": {
            "text/plain": [
              "-4.0"
            ]
          },
          "metadata": {
            "tags": []
          },
          "execution_count": 12
        }
      ]
    },
    {
      "cell_type": "code",
      "metadata": {
        "colab": {
          "base_uri": "https://localhost:8080/"
        },
        "id": "H6JEPmLSW_Cl",
        "outputId": "f58f0881-a05e-4ecc-cbb9-77ed8d2a65e5"
      },
      "source": [
        "### Exponentiation\r\n",
        "E = a**b\r\n",
        "E"
      ],
      "execution_count": null,
      "outputs": [
        {
          "output_type": "execute_result",
          "data": {
            "text/plain": [
              "0.7071067811865476"
            ]
          },
          "metadata": {
            "tags": []
          },
          "execution_count": 13
        }
      ]
    },
    {
      "cell_type": "code",
      "metadata": {
        "colab": {
          "base_uri": "https://localhost:8080/"
        },
        "id": "0F1cxNrZW_FV",
        "outputId": "adc5e398-3b33-419d-e784-dd1a0b92eef9"
      },
      "source": [
        "### Modulo\r\n",
        "mod = d%a\r\n",
        "mod"
      ],
      "execution_count": null,
      "outputs": [
        {
          "output_type": "execute_result",
          "data": {
            "text/plain": [
              "0.0"
            ]
          },
          "metadata": {
            "tags": []
          },
          "execution_count": 14
        }
      ]
    },
    {
      "cell_type": "markdown",
      "metadata": {
        "id": "nFCr__WzXH_M"
      },
      "source": [
        "### Assignment Operations"
      ]
    },
    {
      "cell_type": "markdown",
      "metadata": {
        "id": "RYfgPOwL40mD"
      },
      "source": [
        "##Discussion\r\n",
        "<b><i>Assignment operators</b></i> are used to change the value of a variable/data.programming languages use the symbol <b>=</b> for assignment of values.\r\n",
        "assignment operator has two operands. The one to the left of the operator is usually an identifier which is the name for a variable. The one to the right of the operator is a value of the identifier. below are example of assignment operators."
      ]
    },
    {
      "cell_type": "code",
      "metadata": {
        "id": "dWXA14zD6Pzb"
      },
      "source": [
        ""
      ],
      "execution_count": null,
      "outputs": []
    },
    {
      "cell_type": "code",
      "metadata": {
        "id": "UmGiMDIFW_H-"
      },
      "source": [
        "G, H, J, K = 0, 100, 2, 2"
      ],
      "execution_count": null,
      "outputs": []
    },
    {
      "cell_type": "code",
      "metadata": {
        "colab": {
          "base_uri": "https://localhost:8080/"
        },
        "id": "8aX_G0Z4W_KR",
        "outputId": "7b3d150a-7603-40eb-8960-af0a3c143334"
      },
      "source": [
        "G += a\r\n",
        "G"
      ],
      "execution_count": null,
      "outputs": [
        {
          "output_type": "execute_result",
          "data": {
            "text/plain": [
              "2.0"
            ]
          },
          "metadata": {
            "tags": []
          },
          "execution_count": 16
        }
      ]
    },
    {
      "cell_type": "code",
      "metadata": {
        "id": "-0K5JwYhW_M3"
      },
      "source": [
        "H -= d"
      ],
      "execution_count": null,
      "outputs": []
    },
    {
      "cell_type": "code",
      "metadata": {
        "colab": {
          "base_uri": "https://localhost:8080/"
        },
        "id": "E_RRo8-xW_PN",
        "outputId": "9c45436d-ecc6-40fe-a666-ecf23c0edfd4"
      },
      "source": [
        "J *= 2\r\n",
        "J"
      ],
      "execution_count": null,
      "outputs": [
        {
          "output_type": "execute_result",
          "data": {
            "text/plain": [
              "4"
            ]
          },
          "metadata": {
            "tags": []
          },
          "execution_count": 18
        }
      ]
    },
    {
      "cell_type": "code",
      "metadata": {
        "colab": {
          "base_uri": "https://localhost:8080/"
        },
        "id": "es_NMxEMW_Ru",
        "outputId": "e52c14a3-623a-4476-9efc-35e6ea4c0b41"
      },
      "source": [
        "K **= 2\r\n",
        "K"
      ],
      "execution_count": null,
      "outputs": [
        {
          "output_type": "execute_result",
          "data": {
            "text/plain": [
              "4"
            ]
          },
          "metadata": {
            "tags": []
          },
          "execution_count": 19
        }
      ]
    },
    {
      "cell_type": "markdown",
      "metadata": {
        "id": "0T9WtYheXRRE"
      },
      "source": [
        "### Comparators"
      ]
    },
    {
      "cell_type": "markdown",
      "metadata": {
        "id": "-Kr0vsst7v4y"
      },
      "source": [
        "##Discussion\r\n",
        "<b><i>Comparator</b></i> are used to order the objects of user-defined classes. comparator objects are capable of comparing two objects of two different classes. below are examples of how to use comparators\r\n"
      ]
    },
    {
      "cell_type": "code",
      "metadata": {
        "id": "tWbzmldnW_UO"
      },
      "source": [
        "res_1, res_2, res_3 = 1, 2.0, \"1\"\r\n",
        "true_val = 1.0"
      ],
      "execution_count": null,
      "outputs": []
    },
    {
      "cell_type": "code",
      "metadata": {
        "colab": {
          "base_uri": "https://localhost:8080/"
        },
        "id": "_DdvOaXbW_Wx",
        "outputId": "3b88da03-7b17-4306-cfb5-d25f90ca04b7"
      },
      "source": [
        "## Equality\r\n",
        "res_1 == true_val"
      ],
      "execution_count": null,
      "outputs": [
        {
          "output_type": "execute_result",
          "data": {
            "text/plain": [
              "True"
            ]
          },
          "metadata": {
            "tags": []
          },
          "execution_count": 21
        }
      ]
    },
    {
      "cell_type": "code",
      "metadata": {
        "colab": {
          "base_uri": "https://localhost:8080/"
        },
        "id": "nV3YeXIUW_ZG",
        "outputId": "48621cc4-67a1-4b20-baac-ed7dc8f060d7"
      },
      "source": [
        "## Non-equality\r\n",
        "res_2 != true_val"
      ],
      "execution_count": null,
      "outputs": [
        {
          "output_type": "execute_result",
          "data": {
            "text/plain": [
              "True"
            ]
          },
          "metadata": {
            "tags": []
          },
          "execution_count": 22
        }
      ]
    },
    {
      "cell_type": "code",
      "metadata": {
        "colab": {
          "base_uri": "https://localhost:8080/"
        },
        "id": "Seu4X1p_XZTm",
        "outputId": "acd958f3-90f9-41ad-92be-725deadc60a4"
      },
      "source": [
        "## Inequality\r\n",
        "t1 = res_1 > res_2\r\n",
        "t2 = res_1 < res_2/2\r\n",
        "t3 = res_1 >= res_2/2\r\n",
        "t4 = res_1 <= res_2  \r\n",
        "t1"
      ],
      "execution_count": null,
      "outputs": [
        {
          "output_type": "execute_result",
          "data": {
            "text/plain": [
              "False"
            ]
          },
          "metadata": {
            "tags": []
          },
          "execution_count": 23
        }
      ]
    },
    {
      "cell_type": "markdown",
      "metadata": {
        "id": "i-_Xa5bWXeqb"
      },
      "source": [
        "\r\n",
        "### Logical"
      ]
    },
    {
      "cell_type": "markdown",
      "metadata": {
        "id": "S62INHJ29rJ5"
      },
      "source": [
        "##Discussion<br>\r\n",
        "<b><i>Logical operators </b></i>are used in conditional statements such as true or false. Logical operators also includes  AND, OR and NOT."
      ]
    },
    {
      "cell_type": "code",
      "metadata": {
        "colab": {
          "base_uri": "https://localhost:8080/"
        },
        "id": "XVT8ssbKXZWM",
        "outputId": "1c067fd6-121a-40cc-ef79-76ba9055f75a"
      },
      "source": [
        "res_1 == true_val"
      ],
      "execution_count": null,
      "outputs": [
        {
          "output_type": "execute_result",
          "data": {
            "text/plain": [
              "True"
            ]
          },
          "metadata": {
            "tags": []
          },
          "execution_count": 24
        }
      ]
    },
    {
      "cell_type": "code",
      "metadata": {
        "colab": {
          "base_uri": "https://localhost:8080/"
        },
        "id": "xl-Eo0soXZY-",
        "outputId": "61bc5fc4-44d9-4c15-e4e8-5a718eebbdf6"
      },
      "source": [
        "res_1 is true_val"
      ],
      "execution_count": null,
      "outputs": [
        {
          "output_type": "execute_result",
          "data": {
            "text/plain": [
              "False"
            ]
          },
          "metadata": {
            "tags": []
          },
          "execution_count": 25
        }
      ]
    },
    {
      "cell_type": "code",
      "metadata": {
        "colab": {
          "base_uri": "https://localhost:8080/"
        },
        "id": "UQkM13KfXZbd",
        "outputId": "dbf7b557-1e96-4ee0-ae1a-a895c2a6bd29"
      },
      "source": [
        "res_1 is not true_val"
      ],
      "execution_count": null,
      "outputs": [
        {
          "output_type": "execute_result",
          "data": {
            "text/plain": [
              "True"
            ]
          },
          "metadata": {
            "tags": []
          },
          "execution_count": 26
        }
      ]
    },
    {
      "cell_type": "code",
      "metadata": {
        "colab": {
          "base_uri": "https://localhost:8080/"
        },
        "id": "6XRug662XZd2",
        "outputId": "cc5049bb-a42a-44c2-cb62-fb30cb2a9ec0"
      },
      "source": [
        "p, q = True, False\r\n",
        "conj = p and q\r\n",
        "conj"
      ],
      "execution_count": null,
      "outputs": [
        {
          "output_type": "execute_result",
          "data": {
            "text/plain": [
              "False"
            ]
          },
          "metadata": {
            "tags": []
          },
          "execution_count": 27
        }
      ]
    },
    {
      "cell_type": "code",
      "metadata": {
        "colab": {
          "base_uri": "https://localhost:8080/"
        },
        "id": "qlpKDYAcXZll",
        "outputId": "35aaac89-dda8-427f-b61e-d4acca87bea2"
      },
      "source": [
        "p, q = True, False\r\n",
        "disj = p or q\r\n",
        "disj"
      ],
      "execution_count": null,
      "outputs": [
        {
          "output_type": "execute_result",
          "data": {
            "text/plain": [
              "True"
            ]
          },
          "metadata": {
            "tags": []
          },
          "execution_count": 28
        }
      ]
    },
    {
      "cell_type": "code",
      "metadata": {
        "colab": {
          "base_uri": "https://localhost:8080/"
        },
        "id": "b4ORMO1iXsAm",
        "outputId": "f0d84023-6797-4c97-bd00-81acfe296110"
      },
      "source": [
        "p, q = True, False\r\n",
        "nand = not(p and q)\r\n",
        "nand"
      ],
      "execution_count": null,
      "outputs": [
        {
          "output_type": "execute_result",
          "data": {
            "text/plain": [
              "True"
            ]
          },
          "metadata": {
            "tags": []
          },
          "execution_count": 29
        }
      ]
    },
    {
      "cell_type": "code",
      "metadata": {
        "colab": {
          "base_uri": "https://localhost:8080/"
        },
        "id": "0PIXHJBWXsDT",
        "outputId": "eccfce52-c9bf-4259-e8c3-e3d925be5db3"
      },
      "source": [
        "p, q = True, False\r\n",
        "xor = (not p and q) or (p and not q)\r\n",
        "xor"
      ],
      "execution_count": null,
      "outputs": [
        {
          "output_type": "execute_result",
          "data": {
            "text/plain": [
              "True"
            ]
          },
          "metadata": {
            "tags": []
          },
          "execution_count": 30
        }
      ]
    },
    {
      "cell_type": "markdown",
      "metadata": {
        "id": "4h12xxoxXwAi"
      },
      "source": [
        "### I/O"
      ]
    },
    {
      "cell_type": "code",
      "metadata": {
        "colab": {
          "base_uri": "https://localhost:8080/"
        },
        "id": "VJygg1bhXsFw",
        "outputId": "827b0805-d79b-47a9-90fc-b45986fa2306"
      },
      "source": [
        "print(\"Hello World\")"
      ],
      "execution_count": null,
      "outputs": [
        {
          "output_type": "stream",
          "text": [
            "Hello World\n"
          ],
          "name": "stdout"
        }
      ]
    },
    {
      "cell_type": "code",
      "metadata": {
        "id": "6o4amXm2XsIc"
      },
      "source": [
        "cnt = 1"
      ],
      "execution_count": null,
      "outputs": []
    },
    {
      "cell_type": "code",
      "metadata": {
        "colab": {
          "base_uri": "https://localhost:8080/"
        },
        "id": "WOeTnCY8XsLW",
        "outputId": "e5295fbc-0d9b-49c1-ce93-d94ae5678111"
      },
      "source": [
        "string = \"Hello World\"\r\n",
        "print(string, \", Current run count is:\", cnt)\r\n",
        "cnt += 1"
      ],
      "execution_count": null,
      "outputs": [
        {
          "output_type": "stream",
          "text": [
            "Hello World , Current run count is: 1\n"
          ],
          "name": "stdout"
        }
      ]
    },
    {
      "cell_type": "code",
      "metadata": {
        "colab": {
          "base_uri": "https://localhost:8080/"
        },
        "id": "UZWhllVxXsOO",
        "outputId": "eeaab0a9-fdb5-4909-e264-cc57d81cef3b"
      },
      "source": [
        "print(f\"{string}, Current count is: {cnt}\")"
      ],
      "execution_count": null,
      "outputs": [
        {
          "output_type": "stream",
          "text": [
            "Hello World, Current count is: 2\n"
          ],
          "name": "stdout"
        }
      ]
    },
    {
      "cell_type": "code",
      "metadata": {
        "colab": {
          "base_uri": "https://localhost:8080/"
        },
        "id": "fGMVfOiaXsQg",
        "outputId": "208d1de6-9ac9-4e83-ae9a-4504531f1e4f"
      },
      "source": [
        "sem_grade = 82.243564657461234\r\n",
        "name = \"\"\r\n",
        "print(\"Hello {}, your semestral grade is: {}\".format(name, sem_grade))"
      ],
      "execution_count": null,
      "outputs": [
        {
          "output_type": "stream",
          "text": [
            "Hello , your semestral grade is: 82.24356465746123\n"
          ],
          "name": "stdout"
        }
      ]
    },
    {
      "cell_type": "code",
      "metadata": {
        "colab": {
          "base_uri": "https://localhost:8080/"
        },
        "id": "xVB7OVnFXsTE",
        "outputId": "03088521-2821-46ed-9355-e6d37650b603"
      },
      "source": [
        "w_pg, w_mg, w_fg = 0.3, 0.3, 0.4\r\n",
        "print(\"The weights of your semestral grades are:\\\r\n",
        "\\n\\t{:.2%} for Prelims\\\r\n",
        "\\n\\t{:.2%} for Midterms, and\\\r\n",
        "\\n\\t{:.2%} for Finals.\".format(w_pg, w_mg, w_fg))"
      ],
      "execution_count": null,
      "outputs": [
        {
          "output_type": "stream",
          "text": [
            "The weights of your semestral grades are:\n",
            "\t30.00% for Prelims\n",
            "\t30.00% for Midterms, and\n",
            "\t40.00% for Finals.\n"
          ],
          "name": "stdout"
        }
      ]
    },
    {
      "cell_type": "code",
      "metadata": {
        "colab": {
          "base_uri": "https://localhost:8080/",
          "height": 52
        },
        "id": "B-QD-z7OXsVp",
        "outputId": "7cdd3fee-9274-4319-e256-4be3872a9c21"
      },
      "source": [
        "x = input(\"enter a number: \")\r\n",
        "x"
      ],
      "execution_count": null,
      "outputs": [
        {
          "output_type": "stream",
          "text": [
            "enter a number: 6\n"
          ],
          "name": "stdout"
        },
        {
          "output_type": "execute_result",
          "data": {
            "application/vnd.google.colaboratory.intrinsic+json": {
              "type": "string"
            },
            "text/plain": [
              "'6'"
            ]
          },
          "metadata": {
            "tags": []
          },
          "execution_count": 37
        }
      ]
    },
    {
      "cell_type": "code",
      "metadata": {
        "colab": {
          "base_uri": "https://localhost:8080/"
        },
        "id": "1m6I8AgAXsYE",
        "outputId": "af928a02-8c1a-4f62-92d4-c254b66ec947"
      },
      "source": [
        "name = input(\"Kimi no nawa: \")\r\n",
        "pg = input(\"Enter prelim grade: \")\r\n",
        "mg = input(\"Enter midterm grade: \")\r\n",
        "fg = input(\"Enter finals grade: \")\r\n",
        "sem_grade = None\r\n",
        "print(\"Hello {}, your semestral grade is: {}\".format(name, sem_grade))"
      ],
      "execution_count": null,
      "outputs": [
        {
          "output_type": "stream",
          "text": [
            "Kimi no nawa: h\n",
            "Enter prelim grade: 5\n",
            "Enter midterm grade: 5\n",
            "Enter finals grade: 5\n",
            "Hello h, your semestral grade is: None\n"
          ],
          "name": "stdout"
        }
      ]
    },
    {
      "cell_type": "markdown",
      "metadata": {
        "id": "4W9fmdqUX-wx"
      },
      "source": [
        "# Looping Statements"
      ]
    },
    {
      "cell_type": "markdown",
      "metadata": {
        "id": "MkZ86qzc_Ukd"
      },
      "source": [
        "##Discussion<br>\r\n",
        "<b><i>looping statements</b></i> causes the program to to execute the certain block of code repeatedly until some conditions are satisfied. below are example of while and for loops"
      ]
    },
    {
      "cell_type": "markdown",
      "metadata": {
        "id": "NaiVReufYBkx"
      },
      "source": [
        "## While"
      ]
    },
    {
      "cell_type": "code",
      "metadata": {
        "colab": {
          "base_uri": "https://localhost:8080/"
        },
        "id": "LjWZ57twXsan",
        "outputId": "1c27d7b6-7e67-41d5-84ac-dd403acb1813"
      },
      "source": [
        "## while loops\r\n",
        "i, j = 0, 10\r\n",
        "while(i<=j):\r\n",
        "    print(f\"{i}\\t|\\t{j}\")\r\n",
        "    i+=1"
      ],
      "execution_count": null,
      "outputs": [
        {
          "output_type": "stream",
          "text": [
            "0\t|\t10\n",
            "1\t|\t10\n",
            "2\t|\t10\n",
            "3\t|\t10\n",
            "4\t|\t10\n",
            "5\t|\t10\n",
            "6\t|\t10\n",
            "7\t|\t10\n",
            "8\t|\t10\n",
            "9\t|\t10\n",
            "10\t|\t10\n"
          ],
          "name": "stdout"
        }
      ]
    },
    {
      "cell_type": "markdown",
      "metadata": {
        "id": "gwXimYsoYGqB"
      },
      "source": [
        "## For"
      ]
    },
    {
      "cell_type": "code",
      "metadata": {
        "colab": {
          "base_uri": "https://localhost:8080/"
        },
        "id": "VXsZ0Sm3XsdG",
        "outputId": "8491a6c0-443d-4bd0-e939-e10e80523f5e"
      },
      "source": [
        "# for(int i=0; i<10; i++){\r\n",
        "# printf(i)\r\n",
        "# }\r\n",
        "\r\n",
        "i=0\r\n",
        "for i in range(10):\r\n",
        "    print(i)"
      ],
      "execution_count": null,
      "outputs": [
        {
          "output_type": "stream",
          "text": [
            "0\n",
            "1\n",
            "2\n",
            "3\n",
            "4\n",
            "5\n",
            "6\n",
            "7\n",
            "8\n",
            "9\n"
          ],
          "name": "stdout"
        }
      ]
    },
    {
      "cell_type": "code",
      "metadata": {
        "colab": {
          "base_uri": "https://localhost:8080/"
        },
        "id": "gT6-on-dXsf2",
        "outputId": "b0aa2531-018f-4b9b-a4d7-43d993c7c07e"
      },
      "source": [
        "playlist = []\r\n",
        "print('Now Playing:\\n')\r\n",
        "for song in playlist:\r\n",
        "    print(song)"
      ],
      "execution_count": null,
      "outputs": [
        {
          "output_type": "stream",
          "text": [
            "Now Playing:\n",
            "\n"
          ],
          "name": "stdout"
        }
      ]
    },
    {
      "cell_type": "markdown",
      "metadata": {
        "id": "Bu0izJ6DYKkh"
      },
      "source": [
        "# Flow Control"
      ]
    },
    {
      "cell_type": "markdown",
      "metadata": {
        "id": "bzJ43JX7YNqc"
      },
      "source": [
        "## Condition Statements\r\n",
        "\r\n"
      ]
    },
    {
      "cell_type": "code",
      "metadata": {
        "colab": {
          "base_uri": "https://localhost:8080/"
        },
        "id": "NDmMVG_CYNgp",
        "outputId": "a0d53b4f-1d78-465a-d2a8-54b91ee64bba"
      },
      "source": [
        "numeral1, numeral2 = 12, 12\r\n",
        "if(numeral1 == numeral2):\r\n",
        "    print(\"Yey\")\r\n",
        "elif(numeral1>numeral2):\r\n",
        "    print(\"Hoho\")\r\n",
        "else:\r\n",
        "    print(\"Aww\")\r\n",
        "print(\"Hip hip\")"
      ],
      "execution_count": null,
      "outputs": [
        {
          "output_type": "stream",
          "text": [
            "Yey\n",
            "Hip hip\n"
          ],
          "name": "stdout"
        }
      ]
    },
    {
      "cell_type": "markdown",
      "metadata": {
        "id": "SlPIhPGyYNCR"
      },
      "source": [
        "# Functions"
      ]
    },
    {
      "cell_type": "markdown",
      "metadata": {
        "id": "mE_lJdKsAItE"
      },
      "source": [
        "##Discussion<br>\r\n",
        "<b><i>Functions</i></b> are modules of code that is used to do a specific task. the task of Functions  are to take, process, and return a result of a data."
      ]
    },
    {
      "cell_type": "code",
      "metadata": {
        "id": "IVFzTXlvXskm"
      },
      "source": [
        "# void DeleteUser(int userid){\r\n",
        "#     delete(userid);\r\n",
        "# }\r\n",
        "\r\n",
        "def delete_user (userid):\r\n",
        "    print(\"Successfully deleted user: {}\".format(userid))\r\n",
        "    \r\n",
        "def delete_all_users ():\r\n",
        "    print(\"Successfully deleted all users\")"
      ],
      "execution_count": null,
      "outputs": []
    },
    {
      "cell_type": "code",
      "metadata": {
        "colab": {
          "base_uri": "https://localhost:8080/"
        },
        "id": "MDesgVNuYaNL",
        "outputId": "f9333625-9ef9-4e93-ba79-b32e3900ef7d"
      },
      "source": [
        "userid = 0\r\n",
        "delete_user(0)\r\n",
        "delete_all_users()"
      ],
      "execution_count": null,
      "outputs": [
        {
          "output_type": "stream",
          "text": [
            "Successfully deleted user: 0\n",
            "Successfully deleted all users\n"
          ],
          "name": "stdout"
        }
      ]
    },
    {
      "cell_type": "code",
      "metadata": {
        "id": "6xs_tWyiYaRK"
      },
      "source": [
        "def add(addend1, addend2):\r\n",
        "    return addend1 + addend2\r\n",
        "\r\n",
        "def power_of_base2(exponent):\r\n",
        "    return 2**exponent"
      ],
      "execution_count": null,
      "outputs": []
    },
    {
      "cell_type": "markdown",
      "metadata": {
        "id": "moWpIe31Yk1X"
      },
      "source": [
        "### Lambda Functions"
      ]
    },
    {
      "cell_type": "markdown",
      "metadata": {
        "id": "QxRVUjwB38RZ"
      },
      "source": [
        "##Discussion<br>\r\n",
        "<b><i>lambda function</i></b> is a small anonymous function that can take any number of arguments, but can only have one expression."
      ]
    },
    {
      "cell_type": "code",
      "metadata": {
        "id": "F7ZLJDF2YaU9"
      },
      "source": [
        "x = 4"
      ],
      "execution_count": null,
      "outputs": []
    },
    {
      "cell_type": "code",
      "metadata": {
        "colab": {
          "base_uri": "https://localhost:8080/"
        },
        "id": "Z0q5Few2YaZV",
        "outputId": "a8224ffc-0418-4817-c38b-c22c93c53958"
      },
      "source": [
        "def f(x):\r\n",
        "  return 2*(x*x)-1\r\n",
        "f(x)"
      ],
      "execution_count": null,
      "outputs": [
        {
          "output_type": "execute_result",
          "data": {
            "text/plain": [
              "31"
            ]
          },
          "metadata": {
            "tags": []
          },
          "execution_count": 47
        }
      ]
    },
    {
      "cell_type": "code",
      "metadata": {
        "colab": {
          "base_uri": "https://localhost:8080/"
        },
        "id": "CDvJvGN1Yacp",
        "outputId": "54681de2-09ca-4155-ba47-3d5ba48d0a87"
      },
      "source": [
        "g = lambda x: 2*(x*x)-1\r\n",
        "print(g(x))"
      ],
      "execution_count": null,
      "outputs": [
        {
          "output_type": "stream",
          "text": [
            "31\n"
          ],
          "name": "stdout"
        }
      ]
    },
    {
      "cell_type": "markdown",
      "metadata": {
        "id": "9pkaB6rb4UOS"
      },
      "source": [
        "#Grade Calculator\r\n"
      ]
    },
    {
      "cell_type": "markdown",
      "metadata": {
        "id": "XHOUdfbK4hn4"
      },
      "source": [
        "Create a grade calculator that computes for the semestral grade of a course.\r\n",
        "Students could type their names, the name of the course, then their prelim,\r\n",
        "midterm, and final grade.\r\n",
        "The program should print the semestral grade in 2 decimal points and should\r\n",
        "display the following emojis depending on the situation:\r\n",
        "happy - when grade is greater than 70.00\r\n",
        "laughing - when grade is exactly 70.00\r\n",
        "sad - when grade is below 70.00\r\n"
      ]
    },
    {
      "cell_type": "code",
      "metadata": {
        "colab": {
          "base_uri": "https://localhost:8080/"
        },
        "id": "b98KHCxZYail",
        "outputId": "724a17c9-e12e-400c-fa0e-ac7d66339d0f"
      },
      "source": [
        "name = input(\"Enter Your Name: \")\r\n",
        "pg = input(\"Enter prelim grade: \")\r\n",
        "mg = input(\"Enter midterm grade: \")\r\n",
        "fg = input(\"Enter finals grade: \")\r\n",
        "sem_grade=int(pg)*0.3+int(mg)*0.3+int(fg)*0.4\r\n",
        "if sem_grade<=69:\r\n",
        "   print(\"Hello {}, your semestral grade is: {}  😭\".format(name, sem_grade,))\r\n",
        "elif sem_grade== 70:\r\n",
        "     print(\"Hello {}, your semestral grade is: {}  \\U0001F923\".format(name, sem_grade,))\r\n",
        "else:\r\n",
        "      print(\"Hello {}, your semestral grade is: {}  \\U0001F600\".format(name, sem_grade,))\r\n"
      ],
      "execution_count": 1,
      "outputs": [
        {
          "output_type": "stream",
          "text": [
            "Enter Your Name: khayle\n",
            "Enter prelim grade: 80\n",
            "Enter midterm grade: 69\n",
            "Enter finals grade: 70\n",
            "Hello khayle, your semestral grade is: 72.7  😀\n"
          ],
          "name": "stdout"
        }
      ]
    },
    {
      "cell_type": "markdown",
      "metadata": {
        "id": "7xgsoz63ZXN2"
      },
      "source": [
        "##References\r\n",
        "[1] oreilly,Variables and Data Types,2021<br>\r\n",
        "[2] splashlearn,what is arrithmetic,2020<br>\r\n",
        "[3] rebus community,Kenneth Leroy Busbee,Assignment,2019<br>\r\n",
        "[4] geeksforgeeks,Comparator Interface in Java with Examples,2020<br>\r\n",
        "[5] guru99,Logical Operators,2020<br>\r\n",
        "[6] cpge6151,C programming basic,2008<br>\r\n",
        "[7] cs.utah.edu,Functions,2009<br>\r\n",
        "[8] w3school,Python Lambda,2021"
      ]
    }
  ]
}