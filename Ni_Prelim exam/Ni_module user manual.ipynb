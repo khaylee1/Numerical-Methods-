{
 "cells": [
  {
   "cell_type": "markdown",
   "metadata": {},
   "source": [
    "# ni_module Package User Manual\n",
    "Members:<br>\n",
    "Columba, Lorenzo Miguel L.<br>\n",
    "Datay, Danica Mae L.<br>\n",
    "Embuscado, Khayle Anthony L.<br>\n",
    "Tagalog, Flor-Ann B.<br>\n",
    "\n",
    "## About\n",
    "This user manual contains instructions on how to use and implement the package on other programs. ni_module package is consists of modules that will help you find the roots of a given equation by inserting the required parameters in each module.\n",
    "### Step 1 Import the ni_module package "
   ]
  },
  {
   "cell_type": "code",
   "execution_count": 1,
   "metadata": {},
   "outputs": [],
   "source": [
    "import numpy as np\n",
    "# import the package \n",
    "import ni_module as nm\n"
   ]
  },
  {
   "cell_type": "markdown",
   "metadata": {},
   "source": [
    "### Step 2 Define a given Equation "
   ]
  },
  {
   "cell_type": "code",
   "execution_count": 2,
   "metadata": {},
   "outputs": [],
   "source": [
    "#equations \n",
    "f= lambda x: x**2+5*x+6\n",
    "x_p = lambda x: 2*x + 5\n",
    "x= lambda x: x**3 - np.sin(x)**3 - 4*x + 1\n",
    "z= lambda x: 3*x**2 + 7*x - 55\n"
   ]
  },
  {
   "cell_type": "markdown",
   "metadata": {},
   "source": [
    "### Step 3 choose a desired method to use for finding \n",
    "The package contains the modules listed below<br>\n",
    "\n",
    "- Simple Iteration Method\n",
    "- Newton Rhapson Method\n",
    "- Bisection Method\n",
    "- Regula Falsi Method\n",
    "- secant method\n",
    "### Step 4 Provide the required parameter in the module choosen \n"
   ]
  },
  {
   "cell_type": "markdown",
   "metadata": {},
   "source": [
    "### simple Iteration Method\n",
    "This method require the user to give a equation to solve and a initial guess<br>\n",
    "<i>f</i> is equal to the defined equation and <i>-5</i> is the initial guess input by the user  "
   ]
  },
  {
   "cell_type": "code",
   "execution_count": 3,
   "metadata": {},
   "outputs": [
    {
     "name": "stdout",
     "output_type": "stream",
     "text": [
      "6\n",
      "2\n",
      "0\n",
      "The root is: [-3], found at epoch 2\n"
     ]
    }
   ],
   "source": [
    "#Simple Iteration Method single root\n",
    "nm.simp_iter(f,-5)"
   ]
  },
  {
   "cell_type": "code",
   "execution_count": 4,
   "metadata": {},
   "outputs": [
    {
     "name": "stdout",
     "output_type": "stream",
     "text": [
      "6\n",
      "2\n",
      "0\n",
      "0\n",
      "2\n",
      "6\n",
      "12\n",
      "20\n",
      "30\n",
      "42\n",
      "The root is: [-3, -2], found at epoch 4\n"
     ]
    }
   ],
   "source": [
    "#Simple Iteration Method n root\n",
    "nm.simp_iter_n(f,-5) "
   ]
  },
  {
   "cell_type": "markdown",
   "metadata": {},
   "source": [
    "### Newton Rhapson Method\n",
    "This method require the user to give a equation to solve,a initial guess, and the derivative of given equation\n",
    "<i>f</i> is equal to the defined equation,<i>-5</i> is the initial guess input by the user, and <i>x_p</i> is equal to the declared derivative equation of <i>f</i>  "
   ]
  },
  {
   "cell_type": "code",
   "execution_count": 5,
   "metadata": {},
   "outputs": [
    {
     "name": "stdout",
     "output_type": "stream",
     "text": [
      "the root is  -3.0000023178253943 at epoch 5\n"
     ]
    }
   ],
   "source": [
    "# single roots newton method \n",
    "nm.newt(f,-5,x_p)"
   ]
  },
  {
   "cell_type": "code",
   "execution_count": 6,
   "metadata": {},
   "outputs": [
    {
     "name": "stdout",
     "output_type": "stream",
     "text": [
      "roots are  [-2.] found at 7\n"
     ]
    }
   ],
   "source": [
    "# n root newton method \n",
    "g_range= np.arange(0,5)\n",
    "nm.newt_n(f,g_range,x_p)"
   ]
  },
  {
   "cell_type": "markdown",
   "metadata": {},
   "source": [
    "### Bisection Method\n",
    "This method require the user to give a equation to solve, 2 initial guesses, and the number of roots to find. z is equal to the defined equation,3 and 5 is the 2 initial guesses input by the user, and third value to be input is the number of roots to find "
   ]
  },
  {
   "cell_type": "code",
   "execution_count": 7,
   "metadata": {},
   "outputs": [
    {
     "name": "stdout",
     "output_type": "stream",
     "text": [
      "Root is: [3.2711756518110633], found at epoch 31\n"
     ]
    }
   ],
   "source": [
    "#bisection single \n",
    "nm.bisec( z,3,5,1)"
   ]
  },
  {
   "cell_type": "code",
   "execution_count": 8,
   "metadata": {},
   "outputs": [
    {
     "name": "stdout",
     "output_type": "stream",
     "text": [
      "Roots are: [3.2711756518110633, 3.2711756518110633], found at epoch 32\n"
     ]
    }
   ],
   "source": [
    "# bisection n roots \n",
    "nm.bisec( z,3,5,2)"
   ]
  },
  {
   "cell_type": "markdown",
   "metadata": {},
   "source": [
    "### Regula Falsi (False Position Method)\n",
    "This method require the user to give a equation to solve, and 2 initial guesses. z is equal to the defined equation,0 and 5 is the 2 initial guesses input by the user. and the third value to be input is the number of roots to find "
   ]
  },
  {
   "cell_type": "code",
   "execution_count": 9,
   "metadata": {},
   "outputs": [
    {
     "name": "stdout",
     "output_type": "stream",
     "text": [
      "The root is: [3.271175651600434], found at epoch 12\n"
     ]
    }
   ],
   "source": [
    "# false position method single root \n",
    "nm.false_pos(z, 0, 5, 1)"
   ]
  },
  {
   "cell_type": "code",
   "execution_count": 10,
   "metadata": {},
   "outputs": [
    {
     "name": "stdout",
     "output_type": "stream",
     "text": [
      "The roots are: [3.271175651600434, 3.2711756518495854], found at epoch 13\n"
     ]
    }
   ],
   "source": [
    "# false position method n root \n",
    "nm.false_pos(z, 0, 5, 2)"
   ]
  },
  {
   "cell_type": "markdown",
   "metadata": {},
   "source": [
    "### Secant Method \n",
    "This method require the user to give a equation to solve, and 2 initial guesses. f is equal to the defined equation,1 and 3 is the 2 initial guesses input by the user."
   ]
  },
  {
   "cell_type": "code",
   "execution_count": 11,
   "metadata": {},
   "outputs": [
    {
     "name": "stdout",
     "output_type": "stream",
     "text": [
      "the root is  1.2792256701238998 \n",
      " at epoach: 99\n"
     ]
    }
   ],
   "source": [
    "# Secant method single root \n",
    "nm.sec_meth(x,1,3)"
   ]
  },
  {
   "cell_type": "code",
   "execution_count": 12,
   "metadata": {},
   "outputs": [
    {
     "name": "stdout",
     "output_type": "stream",
     "text": [
      "Epoch Count: 0, g_new = -0.6\n",
      "Epoch Count: 1, g_new = -0.9574\n",
      "Epoch Count: 2, g_new = -1.576\n",
      "Epoch Count: 3, g_new = -1.8208\n",
      "Epoch Count: 4, g_new = -1.9526\n",
      "Epoch Count: 5, g_new = -1.9931\n",
      "Epoch Count: 6, g_new = -1.9997\n",
      "Epoch Count: 7, g_new = -2.0\n",
      "Epoch Count: 8, g_new = -2.0\n",
      "\n",
      "The root is: -2.0, found at 8 epochs\n",
      "\n",
      "The roots found are:\n",
      " {-1.999999999334205}\n"
     ]
    }
   ],
   "source": [
    "# Secant method n root \n",
    "nm.secant_meth_n(f,2,0,5)"
   ]
  },
  {
   "cell_type": "code",
   "execution_count": null,
   "metadata": {},
   "outputs": [],
   "source": []
  }
 ],
 "metadata": {
  "kernelspec": {
   "display_name": "Python 3",
   "language": "python",
   "name": "python3"
  },
  "language_info": {
   "codemirror_mode": {
    "name": "ipython",
    "version": 3
   },
   "file_extension": ".py",
   "mimetype": "text/x-python",
   "name": "python",
   "nbconvert_exporter": "python",
   "pygments_lexer": "ipython3",
   "version": "3.8.5"
  }
 },
 "nbformat": 4,
 "nbformat_minor": 4
}
