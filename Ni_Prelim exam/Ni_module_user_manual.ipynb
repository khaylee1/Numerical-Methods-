{
 "cells": [
  {
   "cell_type": "markdown",
   "metadata": {},
   "source": [
    "# ni_module Package User Manual\n",
    "Members:<br>\n",
    "Columba, Lorenzo Miguel L.<br>\n",
    "Datay, Danica Mae L.<br>\n",
    "Embuscado, Khayle Anthony L.<br>\n",
    "Tagalog, Flor-Ann B.<br>\n",
    "\n",
    "## About\n",
    "This user manual contains instructions on how to use and implement the package on other programs. ni_module package is consists of modules that will help you find the roots of a given equation by inserting the required parameters in each module.\n",
    "### Step 1 Import the ni_module package "
   ]
  },
  {
   "cell_type": "code",
   "execution_count": 1,
   "metadata": {},
   "outputs": [],
   "source": [
    "import numpy as np\n",
    "# import the package \n",
    "import ni_module as nm\n"
   ]
  },
  {
   "cell_type": "markdown",
   "metadata": {},
   "source": [
    "### Step 2 Define a given Equation "
   ]
  },
  {
   "cell_type": "code",
   "execution_count": 2,
   "metadata": {},
   "outputs": [],
   "source": [
    "#equation\n",
    "f = lambda x: x**3 -6*x**2 - 9*x + 54"
   ]
  },
  {
   "cell_type": "markdown",
   "metadata": {},
   "source": [
    "### Step 3 choose a desired method to use for finding \n",
    "The package contains the modules listed below<br>\n",
    "\n",
    "- Simple Iteration Method\n",
    "- Newton Rhapson Method\n",
    "- Bisection Method\n",
    "- Regula Falsi Method\n",
    "- secant method\n",
    "### Step 4 Provide the required parameter in the module choosen \n"
   ]
  },
  {
   "cell_type": "markdown",
   "metadata": {},
   "source": [
    "### simple Iteration Method\n",
    "This method require the user to give a equation to solve and a initial guess<br>\n",
    "<i>f</i> is equal to the defined equation and <i>-5</i> is the initial guess input by the user  "
   ]
  },
  {
   "cell_type": "code",
   "execution_count": 13,
   "metadata": {},
   "outputs": [
    {
     "name": "stdout",
     "output_type": "stream",
     "text": [
      "-176\n",
      "-70\n",
      "0\n",
      "The root is: [-3], found at epoch 2\n"
     ]
    }
   ],
   "source": [
    "#Simple Iteration Method single root\n",
    "nm.simp_iter(f,-5)"
   ]
  },
  {
   "cell_type": "code",
   "execution_count": 4,
   "metadata": {},
   "outputs": [
    {
     "name": "stdout",
     "output_type": "stream",
     "text": [
      "0\n",
      "40\n",
      "56\n",
      "54\n",
      "40\n",
      "20\n",
      "0\n",
      "-14\n",
      "-16\n",
      "0\n",
      "The root is: [-3, 3, 6], found at epoch 10\n"
     ]
    }
   ],
   "source": [
    "#Simple Iteration Method n root\n",
    "nm.simp_iter_n(f,-3) "
   ]
  },
  {
   "cell_type": "markdown",
   "metadata": {},
   "source": [
    "### Newton Rhapson Method\n",
    "This method require the user to give a equation to solve, and the number of roots to find \n",
    "<i>f</i> is equal to the defined equation,1 and 3 are the number of roots to find"
   ]
  },
  {
   "cell_type": "code",
   "execution_count": 15,
   "metadata": {},
   "outputs": [
    {
     "name": "stdout",
     "output_type": "stream",
     "text": [
      "The roots are [-3.], found at epoch: 4 \n"
     ]
    }
   ],
   "source": [
    "# single roots newton method \n",
    "nm.newton(f,1)"
   ]
  },
  {
   "cell_type": "code",
   "execution_count": 16,
   "metadata": {},
   "outputs": [
    {
     "name": "stdout",
     "output_type": "stream",
     "text": [
      "The roots are [-3.  3.  6.], found at epoch: 4 \n"
     ]
    }
   ],
   "source": [
    "# n root newton method \n",
    "nm.newton(f,3)"
   ]
  },
  {
   "cell_type": "markdown",
   "metadata": {},
   "source": [
    "### Bisection Method\n",
    "This method require the user to give a equation to solve, 2 initial guesses, and the number of roots to find . f is equal to the defined equation,3 and 5 is the 2 initial guesses input by the user, and 2 are the number of roots to that need find"
   ]
  },
  {
   "cell_type": "code",
   "execution_count": 17,
   "metadata": {},
   "outputs": [
    {
     "name": "stdout",
     "output_type": "stream",
     "text": [
      "The roots  [3.], found at epoch: 0 \n"
     ]
    }
   ],
   "source": [
    "#bisection single \n",
    "nm.bisec(f,-3,5,1)"
   ]
  },
  {
   "cell_type": "code",
   "execution_count": 18,
   "metadata": {},
   "outputs": [
    {
     "name": "stdout",
     "output_type": "stream",
     "text": [
      "The roots  [-3.  3.], found at epoch: 0 \n"
     ]
    }
   ],
   "source": [
    "# bisection n roots \n",
    "nm.bisec( f,-5,5,2)"
   ]
  },
  {
   "cell_type": "markdown",
   "metadata": {},
   "source": [
    "### Regula Falsi (False Position Method)\n",
    "This method require the user to give a equation to solve, and 2 initial guesses and the number of roots to find . f is equal to the defined equation 0 and 5 is the 2 initial guesses input by the user and 1 and 2 are the number of roots to that need find."
   ]
  },
  {
   "cell_type": "code",
   "execution_count": 19,
   "metadata": {},
   "outputs": [
    {
     "name": "stdout",
     "output_type": "stream",
     "text": [
      "The roots are [-3.], at pos: 99 \n"
     ]
    }
   ],
   "source": [
    "# false position method single root \n",
    "nm.false_pos(f, -5, 5, 1)"
   ]
  },
  {
   "cell_type": "code",
   "execution_count": 20,
   "metadata": {},
   "outputs": [
    {
     "name": "stdout",
     "output_type": "stream",
     "text": [
      "The roots are [-3.  3.], at pos: 99 \n"
     ]
    }
   ],
   "source": [
    "# false position method n root \n",
    "nm.false_pos(f, -5, 5, 2)"
   ]
  },
  {
   "cell_type": "markdown",
   "metadata": {},
   "source": [
    "### Secant Method \n",
    "This method require the user to give a equation to solve, and 2 initial guesses, and the number of roots to find. f is equal to the defined equation,1 and 3 is the 2 initial guesses input by the user, 1 and 2 are the number of roots to that need find."
   ]
  },
  {
   "cell_type": "code",
   "execution_count": 11,
   "metadata": {},
   "outputs": [
    {
     "name": "stdout",
     "output_type": "stream",
     "text": [
      "The roots  [-3.], found at epoch: 9 \n"
     ]
    }
   ],
   "source": [
    "# Secant method single root \n",
    "nm.sec_meth(f,1,3,1)"
   ]
  },
  {
   "cell_type": "code",
   "execution_count": 21,
   "metadata": {},
   "outputs": [
    {
     "name": "stdout",
     "output_type": "stream",
     "text": [
      "The roots  [-3.  3.], found at epoch: 7 \n"
     ]
    }
   ],
   "source": [
    "# Secant method n root \n",
    "nm.sec_meth(f,-5,5,2)"
   ]
  }
 ],
 "metadata": {
  "kernelspec": {
   "display_name": "Python 3",
   "language": "python",
   "name": "python3"
  },
  "language_info": {
   "codemirror_mode": {
    "name": "ipython",
    "version": 3
   },
   "file_extension": ".py",
   "mimetype": "text/x-python",
   "name": "python",
   "nbconvert_exporter": "python",
   "pygments_lexer": "ipython3",
   "version": "3.8.5"
  }
 },
 "nbformat": 4,
 "nbformat_minor": 4
}
