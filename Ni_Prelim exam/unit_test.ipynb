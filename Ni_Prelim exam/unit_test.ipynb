{
 "cells": [
  {
   "cell_type": "code",
   "execution_count": 1,
   "metadata": {},
   "outputs": [],
   "source": [
    "import numpy as np\n",
    "import ni_module  as nm\n",
    "import matplotlib.pyplot as plt"
   ]
  },
  {
   "cell_type": "code",
   "execution_count": 2,
   "metadata": {},
   "outputs": [],
   "source": [
    "#equations \n",
    "\n",
    "f = lambda x: 3*x**2 + 7*x - 55\n",
    "\n",
    "z=lambda x: x**2+5*x+6\n",
    "z_p= lambda x: 2*x+5\n",
    "\n",
    "x= lambda x: x**3 - np.sin(x)**3 - 4*x + 1\n",
    "x_p= lambda x: -3*np.cos(x)*np.sin(x)**2+3*x**2-4\n",
    "\n",
    "y= lambda x: np.log(x-1) * (2*x - 5)\n",
    "y_p = lambda x: ((2*x - 5)/(x - 1)) + 2*np.log(x-1)"
   ]
  },
  {
   "cell_type": "code",
   "execution_count": 3,
   "metadata": {},
   "outputs": [
    {
     "name": "stdout",
     "output_type": "stream",
     "text": [
      "Root is: [3.2711756518110633], found at epoch 31\n"
     ]
    }
   ],
   "source": [
    "#bisection single \n",
    "nm.bisec( f,3,5,1)"
   ]
  },
  {
   "cell_type": "code",
   "execution_count": 4,
   "metadata": {},
   "outputs": [
    {
     "name": "stdout",
     "output_type": "stream",
     "text": [
      "Roots are: [3.2711756518110633, 3.2711756518110633], found at epoch 32\n"
     ]
    }
   ],
   "source": [
    "# bisection n roots \n",
    "#bisection single \n",
    "nm.bisec( f,3,5,2)"
   ]
  },
  {
   "cell_type": "code",
   "execution_count": 5,
   "metadata": {},
   "outputs": [
    {
     "name": "stdout",
     "output_type": "stream",
     "text": [
      "The root is: [-2.1721963007707172], found at epoch 70\n"
     ]
    }
   ],
   "source": [
    "# false position method single root \n",
    "nm.false_pos(x,-5,5,1)"
   ]
  },
  {
   "cell_type": "code",
   "execution_count": 6,
   "metadata": {},
   "outputs": [
    {
     "name": "stdout",
     "output_type": "stream",
     "text": [
      "The roots are: [-2.1721963007707172, -2.1721963009959127], found at epoch 71\n"
     ]
    }
   ],
   "source": [
    "# false position method n roots\n",
    "nm.false_pos(x,-5,5,2)"
   ]
  },
  {
   "cell_type": "code",
   "execution_count": 7,
   "metadata": {},
   "outputs": [
    {
     "name": "stdout",
     "output_type": "stream",
     "text": [
      "the root is  5.0 \n",
      " at epoach: 99\n"
     ]
    },
    {
     "name": "stderr",
     "output_type": "stream",
     "text": [
      "<ipython-input-2-d42d496d840b>:11: RuntimeWarning: divide by zero encountered in log\n",
      "  y= lambda x: np.log(x-1) * (2*x - 5)\n"
     ]
    }
   ],
   "source": [
    "#secant method single root\n",
    "nm.sec_meth(y,1,5)"
   ]
  },
  {
   "cell_type": "code",
   "execution_count": 8,
   "metadata": {},
   "outputs": [
    {
     "name": "stdout",
     "output_type": "stream",
     "text": [
      "Epoch Count: 0, g_new = 3.2258\n",
      "Epoch Count: 1, g_new = 3.2637\n",
      "Epoch Count: 2, g_new = 3.2712\n",
      "Epoch Count: 3, g_new = 3.2712\n",
      "Epoch Count: 4, g_new = 3.2712\n",
      "\n",
      "The root is: 3.2712, found at 4 epochs\n",
      "\n",
      "The roots found are:\n",
      " {3.2711756518979778}\n"
     ]
    }
   ],
   "source": [
    "nm.secant_meth_n(f,2,3,5)"
   ]
  },
  {
   "cell_type": "code",
   "execution_count": 9,
   "metadata": {},
   "outputs": [
    {
     "name": "stdout",
     "output_type": "stream",
     "text": [
      "6\n",
      "2\n",
      "0\n",
      "The root is: [-3], found at epoch 2\n"
     ]
    }
   ],
   "source": [
    "#Simple Iteration Method single root\n",
    "nm.simp_iter(z,-5)"
   ]
  },
  {
   "cell_type": "code",
   "execution_count": 10,
   "metadata": {},
   "outputs": [
    {
     "name": "stdout",
     "output_type": "stream",
     "text": [
      "6\n",
      "2\n",
      "0\n",
      "0\n",
      "2\n",
      "6\n",
      "12\n",
      "20\n",
      "30\n",
      "42\n",
      "The root is: [-3, -2], found at epoch 4\n"
     ]
    }
   ],
   "source": [
    "#Simple Iteration Method n root\n",
    "nm.simp_iter_n(z,-5) "
   ]
  },
  {
   "cell_type": "code",
   "execution_count": 11,
   "metadata": {},
   "outputs": [
    {
     "name": "stdout",
     "output_type": "stream",
     "text": [
      "the root is  -2.1722066673119547 at epoch 5\n"
     ]
    }
   ],
   "source": [
    "# single roots newton method \n",
    "nm.newt(x,-5,x_p)"
   ]
  },
  {
   "cell_type": "code",
   "execution_count": 12,
   "metadata": {},
   "outputs": [
    {
     "name": "stdout",
     "output_type": "stream",
     "text": [
      "roots are  [0.25  1.972] found at 5\n"
     ]
    }
   ],
   "source": [
    "# n root newton method \n",
    "g_range= np.arange(0,5)\n",
    "nm.newt_n(x,g_range,x_p)"
   ]
  },
  {
   "cell_type": "code",
   "execution_count": null,
   "metadata": {},
   "outputs": [],
   "source": []
  }
 ],
 "metadata": {
  "kernelspec": {
   "display_name": "Python 3",
   "language": "python",
   "name": "python3"
  },
  "language_info": {
   "codemirror_mode": {
    "name": "ipython",
    "version": 3
   },
   "file_extension": ".py",
   "mimetype": "text/x-python",
   "name": "python",
   "nbconvert_exporter": "python",
   "pygments_lexer": "ipython3",
   "version": "3.8.5"
  }
 },
 "nbformat": 4,
 "nbformat_minor": 4
}
