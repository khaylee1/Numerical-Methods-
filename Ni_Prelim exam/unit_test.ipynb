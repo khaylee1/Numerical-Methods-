{
 "cells": [
  {
   "cell_type": "code",
   "execution_count": 1,
   "metadata": {},
   "outputs": [],
   "source": [
    "import numpy as np\n",
    "import ni_module  as nm\n",
    "import matplotlib.pyplot as plt\n",
    "#from ni_module import newton as nt"
   ]
  },
  {
   "cell_type": "code",
   "execution_count": 4,
   "metadata": {},
   "outputs": [],
   "source": [
    "#equations \n",
    "\n",
    "f = lambda x: x**3 -6*x**2 - 9*x + 54\n",
    "\n",
    "z=lambda x: x**2+5*x+6\n",
    "z_p= lambda x: 2*x+5\n",
    "\n",
    "x= lambda x: x**3 - np.sin(x)**3 - 4*x + 1\n",
    "x_p= lambda x: -3*np.cos(x)*np.sin(x)**2+3*x**2-4\n",
    "\n",
    "y= lambda x: np.log(x-1) * (2*x - 5)\n",
    "y_p = lambda x: ((2*x - 5)/(x - 1)) + 2*np.log(x-1)\n",
    "\n",
    "q= lambda x: np.tan(x)-np.sin(2*x+1)"
   ]
  },
  {
   "cell_type": "code",
   "execution_count": 5,
   "metadata": {},
   "outputs": [
    {
     "name": "stdout",
     "output_type": "stream",
     "text": [
      "The roots  [-3.], found at epoch: 34 \n"
     ]
    }
   ],
   "source": [
    "#bisection single \n",
    "nm.bisec( f,0,-4,1)"
   ]
  },
  {
   "cell_type": "code",
   "execution_count": 6,
   "metadata": {},
   "outputs": [
    {
     "name": "stdout",
     "output_type": "stream",
     "text": [
      "The roots  [-3.  3.  6.], found at epoch: 0 \n"
     ]
    }
   ],
   "source": [
    "# bisection n roots \n",
    "nm.bisec( f,-5,5,3)\n"
   ]
  },
  {
   "cell_type": "code",
   "execution_count": 12,
   "metadata": {},
   "outputs": [
    {
     "name": "stdout",
     "output_type": "stream",
     "text": [
      "The roots are [-3.], at pos: 99 \n"
     ]
    }
   ],
   "source": [
    "# false position method single root \n",
    "nm.false_pos(f,-5,5,1)"
   ]
  },
  {
   "cell_type": "code",
   "execution_count": 14,
   "metadata": {},
   "outputs": [
    {
     "name": "stdout",
     "output_type": "stream",
     "text": [
      "The roots are [-3.  3.  6.], at pos: 99 \n"
     ]
    }
   ],
   "source": [
    "# false position method n roots\n",
    "nm.false_pos(f,-5,5,3)"
   ]
  },
  {
   "cell_type": "code",
   "execution_count": 9,
   "metadata": {},
   "outputs": [
    {
     "name": "stdout",
     "output_type": "stream",
     "text": [
      "The roots  [-3.], found at epoch: 9 \n"
     ]
    }
   ],
   "source": [
    "#secant method single root\n",
    "nm.sec_meth(f,1,5,1)"
   ]
  },
  {
   "cell_type": "code",
   "execution_count": 10,
   "metadata": {},
   "outputs": [
    {
     "name": "stdout",
     "output_type": "stream",
     "text": [
      "The roots  [-3.  3.  6.], found at epoch: 9 \n"
     ]
    }
   ],
   "source": [
    "nm.sec_meth(f,2,3,5)"
   ]
  },
  {
   "cell_type": "code",
   "execution_count": 11,
   "metadata": {},
   "outputs": [
    {
     "name": "stdout",
     "output_type": "stream",
     "text": [
      "-176\n",
      "-70\n",
      "0\n",
      "The root is: [-3], found at epoch 2\n"
     ]
    }
   ],
   "source": [
    "#Simple Iteration Method single root\n",
    "nm.simp_iter(f,-5)"
   ]
  },
  {
   "cell_type": "code",
   "execution_count": 15,
   "metadata": {},
   "outputs": [
    {
     "name": "stdout",
     "output_type": "stream",
     "text": [
      "-1456\n",
      "-1080\n",
      "-770\n",
      "-520\n",
      "-324\n",
      "-176\n",
      "-70\n",
      "0\n",
      "40\n",
      "56\n",
      "The root is: [-3], found at epoch 8\n"
     ]
    }
   ],
   "source": [
    "#Simple Iteration Method n root\n",
    "nm.simp_iter_n(f,-10) "
   ]
  },
  {
   "cell_type": "code",
   "execution_count": 16,
   "metadata": {},
   "outputs": [
    {
     "name": "stdout",
     "output_type": "stream",
     "text": [
      "The roots are [-3.], found at epoch: 4 \n"
     ]
    }
   ],
   "source": [
    "# single root newton method \n",
    "nm.newton(f,1)"
   ]
  },
  {
   "cell_type": "code",
   "execution_count": 17,
   "metadata": {},
   "outputs": [
    {
     "name": "stdout",
     "output_type": "stream",
     "text": [
      "The roots are [-3.  3.  6.], found at epoch: 4 \n"
     ]
    }
   ],
   "source": [
    "# n root newton method \n",
    "nm.newton(f,3)"
   ]
  },
  {
   "cell_type": "code",
   "execution_count": null,
   "metadata": {},
   "outputs": [],
   "source": []
  }
 ],
 "metadata": {
  "kernelspec": {
   "display_name": "Python 3",
   "language": "python",
   "name": "python3"
  },
  "language_info": {
   "codemirror_mode": {
    "name": "ipython",
    "version": 3
   },
   "file_extension": ".py",
   "mimetype": "text/x-python",
   "name": "python",
   "nbconvert_exporter": "python",
   "pygments_lexer": "ipython3",
   "version": "3.8.5"
  }
 },
 "nbformat": 4,
 "nbformat_minor": 4
}
