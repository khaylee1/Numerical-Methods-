{
  "nbformat": 4,
  "nbformat_minor": 0,
  "metadata": {
    "colab": {
      "name": "58015_Khayle Embuscado_NuMeth 1 - Linear Algebra Review",
      "provenance": [],
      "collapsed_sections": [],
      "toc_visible": true,
      "include_colab_link": true
    },
    "kernelspec": {
      "name": "python3",
      "display_name": "Python 3"
    }
  },
  "cells": [
    {
      "cell_type": "markdown",
      "metadata": {
        "id": "view-in-github",
        "colab_type": "text"
      },
      "source": [
        "<a href=\"https://colab.research.google.com/github/khaylee1/Numerical-Methods-/blob/main/58015_Khayle_Embuscado_NuMeth_1_Linear_Algebra_Review.ipynb\" target=\"_parent\"><img src=\"https://colab.research.google.com/assets/colab-badge.svg\" alt=\"Open In Colab\"/></a>"
      ]
    },
    {
      "cell_type": "markdown",
      "metadata": {
        "id": "CPi23qJFCw2L"
      },
      "source": [
        "# Linear Algebra\r\n",
        "<b><i>By: KA.Embuscado © 2021</b></i>\r\n",
        "\r\n",
        "Linear Algebra is one of the fundamental mathematics for Artificial Intelligence Development and also Computer Vision. We will see the applications of Linear Algebra in advanced mathematical techniques such as optimization, vectorized programming, and matrix manipulations. Today we will try to understand the basics of Linear Algebra using Python."
      ]
    },
    {
      "cell_type": "markdown",
      "metadata": {
        "id": "zfQWDrsEDzfi"
      },
      "source": [
        "## 1. Vectors\r\n",
        "NumPy or Numerical Python is a package or library that allows programmers to code and model computations and see them in action. You can check the [NumPy documentation](https://numpy.org/doc/stable/reference/index.html) on how to use their APIs.\r\n",
        "\r\n"
      ]
    },
    {
      "cell_type": "code",
      "metadata": {
        "id": "NyKiAJagCr23",
        "colab": {
          "base_uri": "https://localhost:8080/",
          "height": 0
        },
        "outputId": "6bf68336-2f19-4787-db3d-1d25465c7fa3"
      },
      "source": [
        "## You can install NumPy in your local machine by doing the following line without the \"!\"\r\n",
        "!pip install numpy\r\n",
        "## But in Google Colab NumPy is already installed in your session.\r\n",
        "import numpy as np\r\n",
        "import math\r\n",
        "print(f'NumPy library version: {np.__version__}')"
      ],
      "execution_count": 49,
      "outputs": [
        {
          "output_type": "stream",
          "text": [
            "Requirement already satisfied: numpy in /usr/local/lib/python3.7/dist-packages (1.19.5)\n",
            "NumPy library version: 1.19.5\n"
          ],
          "name": "stdout"
        }
      ]
    },
    {
      "cell_type": "markdown",
      "metadata": {
        "id": "wr7iZs8-ECIh"
      },
      "source": [
        "### Defining Vectors, Matrices, and Tensors\r\n",
        "Vectors, Matrices, and Tensors are the fundamental objects in Linear Algebra programming. We'll be defining each of these objects specifically in the Computer Science/Engineering perspective since it would be much confusing if we consider their Physics and Pure Mathematics definitions."
      ]
    },
    {
      "cell_type": "markdown",
      "metadata": {
        "id": "hXyQT1GoEICC"
      },
      "source": [
        "#### <i>Scalars</i>\r\n",
        "Scalars are numerical entities that are represented by a single value. "
      ]
    },
    {
      "cell_type": "code",
      "metadata": {
        "id": "euMYAk53D96k",
        "colab": {
          "base_uri": "https://localhost:8080/",
          "height": 0
        },
        "outputId": "299a0ee5-0678-490b-f71d-2c102c574120"
      },
      "source": [
        "x=np.array(3)\r\n",
        "y=np.array(2)\r\n",
        "x+y"
      ],
      "execution_count": 50,
      "outputs": [
        {
          "output_type": "execute_result",
          "data": {
            "text/plain": [
              "5"
            ]
          },
          "metadata": {
            "tags": []
          },
          "execution_count": 50
        }
      ]
    },
    {
      "cell_type": "markdown",
      "metadata": {
        "id": "FJWsNnsnEKPR"
      },
      "source": [
        "#### *Vectors*\r\n",
        "Vectors are array of numerical values or scalars that would represent any feature space. Feature spaces or simply dimensions or the parameters of an equation or a function."
      ]
    },
    {
      "cell_type": "code",
      "metadata": {
        "id": "Y6kqO2sLEOY7",
        "colab": {
          "base_uri": "https://localhost:8080/",
          "height": 0
        },
        "outputId": "a050e34e-ee28-4ae4-d484-8c61e5f46174"
      },
      "source": [
        "x1=np.array([3,6,8])\r\n",
        "y1=np.array([2,4,6])\r\n",
        "x1+y1"
      ],
      "execution_count": 51,
      "outputs": [
        {
          "output_type": "execute_result",
          "data": {
            "text/plain": [
              "array([ 5, 10, 14])"
            ]
          },
          "metadata": {
            "tags": []
          },
          "execution_count": 51
        }
      ]
    },
    {
      "cell_type": "markdown",
      "metadata": {
        "id": "UpTSGTl0EOqx"
      },
      "source": [
        "#### *Matrices*\r\n",
        "Matrices are array of vectors or a multi-dimensional array for features for an equation or function."
      ]
    },
    {
      "cell_type": "code",
      "metadata": {
        "id": "9RyugRXrEQab",
        "colab": {
          "base_uri": "https://localhost:8080/",
          "height": 0
        },
        "outputId": "77e422ec-b64e-436e-cc83-ebbca926dfee"
      },
      "source": [
        "x2=np.array([[3,6,8],\r\n",
        "             [1,2,3],\r\n",
        "             [0,9,8]\r\n",
        "             ])\r\n",
        "y2=np.array([[2,4,6],\r\n",
        "             [4,5,6],\r\n",
        "             [0,0,3]\r\n",
        "            ])\r\n",
        "x2+y2"
      ],
      "execution_count": 52,
      "outputs": [
        {
          "output_type": "execute_result",
          "data": {
            "text/plain": [
              "array([[ 5, 10, 14],\n",
              "       [ 5,  7,  9],\n",
              "       [ 0,  9, 11]])"
            ]
          },
          "metadata": {
            "tags": []
          },
          "execution_count": 52
        }
      ]
    },
    {
      "cell_type": "markdown",
      "metadata": {
        "id": "7aHsGCpoEQ_h"
      },
      "source": [
        "#### *Tensors*\r\n",
        "Tensors are an array of matrices. Tensors have dimensions, tensors can have alternate names depending on what dimension they are in. 1D tensors can be considered as vectors, 2D tensors can be considered are matrices, and 3D onwards are called high dimensional tensors."
      ]
    },
    {
      "cell_type": "code",
      "metadata": {
        "id": "0LsB8OX7EWiJ",
        "colab": {
          "base_uri": "https://localhost:8080/",
          "height": 0
        },
        "outputId": "2be47c9b-cdcb-42fd-aedf-533289a9d7bc"
      },
      "source": [
        "t=np.array([\r\n",
        "            [[3,6,8],\r\n",
        "             [1,2,3],\r\n",
        "             [0,9,8]],\r\n",
        "            \r\n",
        "            [[2,2,8],\r\n",
        "             [1,0,3],\r\n",
        "             [1,9,2]]\r\n",
        "])\r\n",
        "t"
      ],
      "execution_count": 53,
      "outputs": [
        {
          "output_type": "execute_result",
          "data": {
            "text/plain": [
              "array([[[3, 6, 8],\n",
              "        [1, 2, 3],\n",
              "        [0, 9, 8]],\n",
              "\n",
              "       [[2, 2, 8],\n",
              "        [1, 0, 3],\n",
              "        [1, 9, 2]]])"
            ]
          },
          "metadata": {
            "tags": []
          },
          "execution_count": 53
        }
      ]
    },
    {
      "cell_type": "markdown",
      "metadata": {
        "id": "bpwgaV-mESxA"
      },
      "source": [
        "Here's a visual representation of the data types that we are going to use. <br>\r\n",
        "<img src=\"https://static.javatpoint.com/tutorial/pytorch/images/pytorch-tensors.png\">\r\n",
        "\r\n"
      ]
    },
    {
      "cell_type": "markdown",
      "metadata": {
        "id": "DuSXe7etEZPQ"
      },
      "source": [
        "### Describing Tensors\r\n",
        "\r\n",
        "Describing tensors is very important if we want to perform basic to advanced operations with them. The fundamental ways in describing tensors are knowing their shape, size, and dimensions.\r\n"
      ]
    },
    {
      "cell_type": "markdown",
      "metadata": {
        "id": "SwgpdKt9Em2J"
      },
      "source": [
        "#### *Shapes*\r\n",
        "The shape of a tensor tells us how many rows and columns are there in an axis.\r\n"
      ]
    },
    {
      "cell_type": "code",
      "metadata": {
        "id": "1_zIw1OsEluE",
        "colab": {
          "base_uri": "https://localhost:8080/",
          "height": 0
        },
        "outputId": "f1114a33-d22f-4025-d963-c56cca4074e2"
      },
      "source": [
        "print(\r\n",
        "    x.shape,\r\n",
        "    y.shape,\r\n",
        "    x1.shape,\r\n",
        "    y1.shape,\r\n",
        "    x2.shape,\r\n",
        "    y2.shape,\r\n",
        "    t.shape  \r\n",
        ")"
      ],
      "execution_count": 54,
      "outputs": [
        {
          "output_type": "stream",
          "text": [
            "() () (3,) (3,) (3, 3) (3, 3) (2, 3, 3)\n"
          ],
          "name": "stdout"
        }
      ]
    },
    {
      "cell_type": "markdown",
      "metadata": {
        "id": "8ApYwUyQEpmx"
      },
      "source": [
        "#### <i>Dimensions</i>\r\n",
        "In NumPy the dimension of a tensor is also called axes."
      ]
    },
    {
      "cell_type": "code",
      "metadata": {
        "id": "LCfMGIsrErwR",
        "colab": {
          "base_uri": "https://localhost:8080/",
          "height": 0
        },
        "outputId": "4aeb55c4-d92a-4539-9bdb-8c947f56dac8"
      },
      "source": [
        "print(\r\n",
        "    x.ndim,\r\n",
        "    y.ndim,\r\n",
        "    x1.ndim,\r\n",
        "    y1.ndim,\r\n",
        "    x2.ndim,\r\n",
        "    y2.ndim,\r\n",
        "    t.ndim  \r\n",
        ")"
      ],
      "execution_count": 55,
      "outputs": [
        {
          "output_type": "stream",
          "text": [
            "0 0 1 1 2 2 3\n"
          ],
          "name": "stdout"
        }
      ]
    },
    {
      "cell_type": "markdown",
      "metadata": {
        "id": "DbzQSFQ1EsPB"
      },
      "source": [
        "#### *Sizes*\r\n",
        "The size of a tensor/ vector/ matrix is simply the total number of elements in it."
      ]
    },
    {
      "cell_type": "code",
      "metadata": {
        "id": "H6HtwIRBEvUB",
        "colab": {
          "base_uri": "https://localhost:8080/",
          "height": 0
        },
        "outputId": "a41ae116-978e-44bd-ed98-660207f926fb"
      },
      "source": [
        "print(\r\n",
        "    x.size,\r\n",
        "    y.size,\r\n",
        "    x1.size,\r\n",
        "    y1.size,\r\n",
        "    x2.size,\r\n",
        "    y2.size,\r\n",
        "    t.size  \r\n",
        ")"
      ],
      "execution_count": 56,
      "outputs": [
        {
          "output_type": "stream",
          "text": [
            "1 1 3 3 9 9 18\n"
          ],
          "name": "stdout"
        }
      ]
    },
    {
      "cell_type": "markdown",
      "metadata": {
        "id": "bfLvsCCdEvzR"
      },
      "source": [
        "## Types of Matrices\r\n",
        "The notation and use of matrices are probably one of the fundamentals of modern computing. Matrices are also handy representations of complex equations or multiple inter-related equations from 2-dimensional equations to even hundreds and thousands of them.\r\n",
        "\r\n",
        "Let's say for example you have $A$ and $B$ as the system of equations.\r\n",
        "\r\n",
        "$$\r\n",
        "A = \\left\\{\r\n",
        "    \\begin{array}\\\\\r\n",
        "        x + y \\\\ \r\n",
        "        4x - 10y\r\n",
        "    \\end{array}\r\n",
        "\\right. \\\\\r\n",
        "B = \\left\\{\r\n",
        "    \\begin{array}\\\\\r\n",
        "        x+y+z \\\\ \r\n",
        "        3x -2y -z \\\\\r\n",
        "        -x + 4y +2z\r\n",
        "    \\end{array}\r\n",
        "\\right. $$\r\n",
        "\r\n",
        "We could see that $A$ is a system of 2 equations with 2 parameters. While $B$ is a system of 3 equations with 3 parameters. We can represent them as matrices as:\r\n",
        "\r\n",
        "$$\r\n",
        "A=\\begin{bmatrix} 1 & 1 \\\\ 4 & {-10}\\end{bmatrix} \\\\\r\n",
        "B=\\begin{bmatrix} 1 & 1 & 1 \\\\ 3 & -2 & -1 \\\\ -1 & 4 & 2\\end{bmatrix}\r\n",
        "$$\r\n",
        "\r\n",
        "We'll represent the system of linear equations as a matrix. The entities or numbers in matrices are called the elements of a matrix. These elements are arranged and ordered in rows and columns which form the list/array-like structure of matrices. And just like arrays, these elements are indexed according to their position with respect to their rows and columns. This can be represented just like the equation below. Whereas $A$ is a matrix consisting of elements denoted by $a_{i,j}$. Denoted by $i$ is the number of rows in the matrix while $j$ stands for the number of columns.<br>\r\n",
        "Do note that the $size$ of a matrix is $i\\times j$.\r\n",
        "$$A=\\begin{bmatrix}\r\n",
        "a_{(0,0)}&a_{(0,1)}&\\dots&a_{(0,j-1)}\\\\\r\n",
        "a_{(1,0)}&a_{(1,1)}&\\dots&a_{(1,j-1)}\\\\\r\n",
        "\\vdots&\\vdots&\\ddots&\\vdots&\\\\\r\n",
        "a_{(i-1,0)}&a_{(i-1,1)}&\\dots&a_{(i-1,j-1)}\r\n",
        "\\end{bmatrix}\r\n",
        "$$\r\n",
        "We already gone over some of the types of matrices as vectors but we'll further discuss them in this laboratory activity. Since you already know how to describe vectors using shape, dimensions and size attributes, we'll use them to analyze these matrices."
      ]
    },
    {
      "cell_type": "code",
      "metadata": {
        "id": "uICoQit6E06p"
      },
      "source": [
        "def describe_mat(matrix):\r\n",
        "    print(f'Matrix:\\n{matrix}\\n\\nShape:\\t{matrix.shape}\\nRank:\\t{matrix.ndim}\\n')"
      ],
      "execution_count": 57,
      "outputs": []
    },
    {
      "cell_type": "code",
      "metadata": {
        "id": "CbF8cedvE7Hr"
      },
      "source": [
        ""
      ],
      "execution_count": 57,
      "outputs": []
    },
    {
      "cell_type": "markdown",
      "metadata": {
        "id": "Ig-gl-rSE-uq"
      },
      "source": [
        "### Matrices according to shape"
      ]
    },
    {
      "cell_type": "markdown",
      "metadata": {
        "id": "VHRtsc3fFBWw"
      },
      "source": [
        "#### *Row and Column Matrices*\r\n",
        "\r\n",
        "Row and column matrices are common in vector and matrix computations. They can also represent row and column spaces of a bigger vector space. Row and column matrices are represented by a single column or single row. So with that being, the shape of row matrices would be $1 \\times j$ and column matrices would be $i \\times 1$."
      ]
    },
    {
      "cell_type": "code",
      "metadata": {
        "id": "Ddc899xwFA7b",
        "colab": {
          "base_uri": "https://localhost:8080/",
          "height": 0
        },
        "outputId": "d5d4f2e2-2c25-4dbf-b435-3fcb8eda7ec9"
      },
      "source": [
        "## Declaring a Row Matrix\r\n",
        "rm=np.array([11,11,12])\r\n",
        "describe_mat(rm)"
      ],
      "execution_count": 58,
      "outputs": [
        {
          "output_type": "stream",
          "text": [
            "Matrix:\n",
            "[11 11 12]\n",
            "\n",
            "Shape:\t(3,)\n",
            "Rank:\t1\n",
            "\n"
          ],
          "name": "stdout"
        }
      ]
    },
    {
      "cell_type": "code",
      "metadata": {
        "id": "Y_7qozkmFHIj",
        "colab": {
          "base_uri": "https://localhost:8080/",
          "height": 0
        },
        "outputId": "c6a5a719-df25-4218-de92-61b980b3a6d7"
      },
      "source": [
        "## Declaring a Column Matrix\r\n",
        "cm=np.array([\r\n",
        "             [2],\r\n",
        "             [2],\r\n",
        "             [8]\r\n",
        "])\r\n",
        "describe_mat(cm)"
      ],
      "execution_count": 59,
      "outputs": [
        {
          "output_type": "stream",
          "text": [
            "Matrix:\n",
            "[[2]\n",
            " [2]\n",
            " [8]]\n",
            "\n",
            "Shape:\t(3, 1)\n",
            "Rank:\t2\n",
            "\n"
          ],
          "name": "stdout"
        }
      ]
    },
    {
      "cell_type": "markdown",
      "metadata": {
        "id": "B9v0LYERFK1a"
      },
      "source": [
        "#### <i>Square Matrices</i>\r\n",
        "Square matrices are matrices that have the same row and column sizes. We could say a matrix is square if $i = j$. We can tweak our matrix descriptor function to determine square matrices."
      ]
    },
    {
      "cell_type": "code",
      "metadata": {
        "id": "TjUWmKseFIkL",
        "colab": {
          "base_uri": "https://localhost:8080/",
          "height": 0
        },
        "outputId": "23cfb14c-de71-4436-af26-8b6dbeb9f183"
      },
      "source": [
        "sm=np.array([\r\n",
        "             [2,2],\r\n",
        "             [3,3]\r\n",
        "])\r\n",
        "describe_mat(sm)"
      ],
      "execution_count": 60,
      "outputs": [
        {
          "output_type": "stream",
          "text": [
            "Matrix:\n",
            "[[2 2]\n",
            " [3 3]]\n",
            "\n",
            "Shape:\t(2, 2)\n",
            "Rank:\t2\n",
            "\n"
          ],
          "name": "stdout"
        }
      ]
    },
    {
      "cell_type": "markdown",
      "metadata": {
        "id": "QLWp8IaxFQHJ"
      },
      "source": [
        "### Matrices according to element values"
      ]
    },
    {
      "cell_type": "markdown",
      "metadata": {
        "id": "YXYw9-pxFS8Z"
      },
      "source": [
        "#### <i>Empty Matrix</i>\r\n",
        "\r\n",
        "An empty Matrix is a matrix that has no elements. It is always a subspace of any vector or matrix."
      ]
    },
    {
      "cell_type": "code",
      "metadata": {
        "id": "xlO-lmVBFRNA",
        "colab": {
          "base_uri": "https://localhost:8080/",
          "height": 0
        },
        "outputId": "35168d13-3874-4f8c-a756-f728dfa2ecf5"
      },
      "source": [
        "em=np.array([])\r\n",
        "describe_mat(em)\r\n"
      ],
      "execution_count": 61,
      "outputs": [
        {
          "output_type": "stream",
          "text": [
            "Matrix:\n",
            "[]\n",
            "\n",
            "Shape:\t(0,)\n",
            "Rank:\t1\n",
            "\n"
          ],
          "name": "stdout"
        }
      ]
    },
    {
      "cell_type": "markdown",
      "metadata": {
        "id": "ofntAyNKFVkA"
      },
      "source": [
        "#### <i>Zero/Null Matrix</i>\r\n",
        "A zero matrix can be any rectangular matrix but with all elements having a value of 0. In most texts, the zero matrix is denoted as $\\emptyset$.<br>\r\n",
        "Check out: [`numpy.zeros`](https://numpy.org/doc/stable/reference/generated/numpy.zeros.html)"
      ]
    },
    {
      "cell_type": "code",
      "metadata": {
        "id": "bN4orlEzFV34",
        "colab": {
          "base_uri": "https://localhost:8080/",
          "height": 0
        },
        "outputId": "1a694e49-bc71-484e-9a74-e873eb86dd57"
      },
      "source": [
        "zm=np.full((3,3),0)\r\n",
        "describe_mat(zm)"
      ],
      "execution_count": 62,
      "outputs": [
        {
          "output_type": "stream",
          "text": [
            "Matrix:\n",
            "[[0 0 0]\n",
            " [0 0 0]\n",
            " [0 0 0]]\n",
            "\n",
            "Shape:\t(3, 3)\n",
            "Rank:\t2\n",
            "\n"
          ],
          "name": "stdout"
        }
      ]
    },
    {
      "cell_type": "markdown",
      "metadata": {
        "id": "CHwAtgfaFWWY"
      },
      "source": [
        "#### <i>Ones Matrix</i>\r\n",
        "A ones matrix, just like zero matrices, can be any rectangular matrix but all of its elements are 1s instead of 0s.\r\n",
        "\r\n",
        "Check out: [`numpy.ones`](https://numpy.org/doc/stable/reference/generated/numpy.ones.html)"
      ]
    },
    {
      "cell_type": "code",
      "metadata": {
        "id": "wZayvxxRFYHI",
        "colab": {
          "base_uri": "https://localhost:8080/",
          "height": 0
        },
        "outputId": "ca5988b2-5f76-47d5-e647-faa7e0054cf9"
      },
      "source": [
        "om=np.full((3,3),1)\r\n",
        "describe_mat(om)"
      ],
      "execution_count": 63,
      "outputs": [
        {
          "output_type": "stream",
          "text": [
            "Matrix:\n",
            "[[1 1 1]\n",
            " [1 1 1]\n",
            " [1 1 1]]\n",
            "\n",
            "Shape:\t(3, 3)\n",
            "Rank:\t2\n",
            "\n"
          ],
          "name": "stdout"
        }
      ]
    },
    {
      "cell_type": "markdown",
      "metadata": {
        "id": "_Y2fAx-rFYgg"
      },
      "source": [
        "#### <i>Diagonal Matrix</i>\r\n",
        "\r\n",
        "Check out: [`numpy.diag`](https://numpy.org/doc/stable/reference/generated/numpy.diag.html)"
      ]
    },
    {
      "cell_type": "code",
      "metadata": {
        "id": "qbl75HLUFaCQ",
        "colab": {
          "base_uri": "https://localhost:8080/",
          "height": 0
        },
        "outputId": "689a0701-e585-4f6a-8c0e-7312bbc210bf"
      },
      "source": [
        "dm= np.diag([8,1,8])\r\n",
        "describe_mat(dm)"
      ],
      "execution_count": 64,
      "outputs": [
        {
          "output_type": "stream",
          "text": [
            "Matrix:\n",
            "[[8 0 0]\n",
            " [0 1 0]\n",
            " [0 0 8]]\n",
            "\n",
            "Shape:\t(3, 3)\n",
            "Rank:\t2\n",
            "\n"
          ],
          "name": "stdout"
        }
      ]
    },
    {
      "cell_type": "markdown",
      "metadata": {
        "id": "pLxVWf2tFaaT"
      },
      "source": [
        "#### <i>Identity Matrix</i>\r\n",
        "An identity matrix is a special diagonal matrix in which the values at the diagonal are ones. In most texts, the identity matrix is denoted as $I$.<br>\r\n",
        "Check out: \r\n",
        "* [`numpy.eye`](https://numpy.org/doc/stable/reference/generated/numpy.eye.html)\r\n",
        "* [`numpy.identity`](https://numpy.org/doc/stable/reference/generated/numpy.identity.html)"
      ]
    },
    {
      "cell_type": "code",
      "metadata": {
        "id": "snCHNo94FcuQ",
        "colab": {
          "base_uri": "https://localhost:8080/",
          "height": 0
        },
        "outputId": "a091d9aa-378c-4cf1-d567-52345ea216ea"
      },
      "source": [
        "im=np.identity(3)\r\n",
        "describe_mat(im)"
      ],
      "execution_count": 65,
      "outputs": [
        {
          "output_type": "stream",
          "text": [
            "Matrix:\n",
            "[[1. 0. 0.]\n",
            " [0. 1. 0.]\n",
            " [0. 0. 1.]]\n",
            "\n",
            "Shape:\t(3, 3)\n",
            "Rank:\t2\n",
            "\n"
          ],
          "name": "stdout"
        }
      ]
    },
    {
      "cell_type": "markdown",
      "metadata": {
        "id": "4sp2nmx1FdBg"
      },
      "source": [
        "#### <i>Scalar Matrix</i>\r\n",
        "Since scalars cannot be explicitly operated with matrices, one workaround is to convert scalars into matrices. This is done by a matrix with all diagonal values equal to the original scalar."
      ]
    },
    {
      "cell_type": "code",
      "metadata": {
        "id": "y5kOPm9uFel4",
        "colab": {
          "base_uri": "https://localhost:8080/",
          "height": 0
        },
        "outputId": "db756e38-9452-4d06-8b77-3d08b8b22eec"
      },
      "source": [
        "scm=np.eye(3)\r\n",
        "describe_mat(scm)"
      ],
      "execution_count": 66,
      "outputs": [
        {
          "output_type": "stream",
          "text": [
            "Matrix:\n",
            "[[1. 0. 0.]\n",
            " [0. 1. 0.]\n",
            " [0. 0. 1.]]\n",
            "\n",
            "Shape:\t(3, 3)\n",
            "Rank:\t2\n",
            "\n"
          ],
          "name": "stdout"
        }
      ]
    },
    {
      "cell_type": "markdown",
      "metadata": {
        "id": "LRidQS1PFfSB"
      },
      "source": [
        "#### <i>Upper Triangular Matrix</i>\r\n",
        "An upper triangular matrix is a matrix that has no values below the diagonal."
      ]
    },
    {
      "cell_type": "code",
      "metadata": {
        "id": "Hznqw8iIFhPo",
        "colab": {
          "base_uri": "https://localhost:8080/",
          "height": 0
        },
        "outputId": "180abfec-0824-4dd7-8283-f2d8a678fd84"
      },
      "source": [
        "utm=np.array([\r\n",
        "              [1,1,1],\r\n",
        "              [0,1,1],\r\n",
        "              [0,0,1]\r\n",
        "])\r\n",
        "describe_mat(utm)"
      ],
      "execution_count": 67,
      "outputs": [
        {
          "output_type": "stream",
          "text": [
            "Matrix:\n",
            "[[1 1 1]\n",
            " [0 1 1]\n",
            " [0 0 1]]\n",
            "\n",
            "Shape:\t(3, 3)\n",
            "Rank:\t2\n",
            "\n"
          ],
          "name": "stdout"
        }
      ]
    },
    {
      "cell_type": "markdown",
      "metadata": {
        "id": "fIt_zh7vFhuy"
      },
      "source": [
        "#### <i>Lower Triangular Matrix</i>\r\n",
        "\r\n",
        "\r\n",
        "A lower triangular matrix is a matrix that has no values above the diagonal."
      ]
    },
    {
      "cell_type": "code",
      "metadata": {
        "id": "L8AHzCphFjTh",
        "colab": {
          "base_uri": "https://localhost:8080/",
          "height": 0
        },
        "outputId": "ecf1e5bf-5edc-4d42-c7ba-b069ec4885ad"
      },
      "source": [
        "ltm=np.array([\r\n",
        "              [1,0,0],\r\n",
        "              [1,1,0],\r\n",
        "              [1,1,1]\r\n",
        "])\r\n",
        "describe_mat(ltm)"
      ],
      "execution_count": 68,
      "outputs": [
        {
          "output_type": "stream",
          "text": [
            "Matrix:\n",
            "[[1 0 0]\n",
            " [1 1 0]\n",
            " [1 1 1]]\n",
            "\n",
            "Shape:\t(3, 3)\n",
            "Rank:\t2\n",
            "\n"
          ],
          "name": "stdout"
        }
      ]
    },
    {
      "cell_type": "markdown",
      "metadata": {
        "id": "YrHljLnqFkGp"
      },
      "source": [
        "# Matrix / Tensor Algebra\r\n",
        "Moving forward with matrices, vectors, and tensors. We'll try to see them in action using the commonly used operations for tensors. We will now dwell on the concepts and applications of Tensor Algebra"
      ]
    },
    {
      "cell_type": "markdown",
      "metadata": {
        "id": "DHOcEAhmFnqx"
      },
      "source": [
        "## Arithmetic / Element-wise Operations\r\n",
        "Check out: \r\n",
        "* [`numpy.add`](https://numpy.org/doc/stable/reference/generated/numpy.add.html)\r\n",
        "* [`numpy.sum`](https://numpy.org/doc/stable/reference/generated/numpy.sum.html)\r\n",
        "* [`numpy.subtract`](https://numpy.org/doc/stable/reference/generated/numpy.subtract.html)\r\n",
        "* [`numpy.multiply`](https://numpy.org/doc/stable/reference/generated/numpy.multiply.html)\r\n",
        "* [`numpy.square`](https://numpy.org/doc/stable/reference/generated/numpy.square.html)\r\n",
        "* [`numpy.divide`](https://numpy.org/doc/stable/reference/generated/numpy.divide.html)"
      ]
    },
    {
      "cell_type": "code",
      "metadata": {
        "id": "2uWM0oFZFmTJ",
        "colab": {
          "base_uri": "https://localhost:8080/",
          "height": 0
        },
        "outputId": "aa9a4d7a-009a-428f-ccee-25ca9fe312bc"
      },
      "source": [
        "## Addition\r\n",
        "np.add(x,y)"
      ],
      "execution_count": 69,
      "outputs": [
        {
          "output_type": "execute_result",
          "data": {
            "text/plain": [
              "5"
            ]
          },
          "metadata": {
            "tags": []
          },
          "execution_count": 69
        }
      ]
    },
    {
      "cell_type": "code",
      "metadata": {
        "id": "BRgjTiETFqzK",
        "colab": {
          "base_uri": "https://localhost:8080/",
          "height": 0
        },
        "outputId": "57c64a4f-2d1a-44c9-a37c-1df1bc2c7771"
      },
      "source": [
        "## Subtraction\r\n",
        "np.subtract(x1,y1)"
      ],
      "execution_count": 70,
      "outputs": [
        {
          "output_type": "execute_result",
          "data": {
            "text/plain": [
              "array([1, 2, 2])"
            ]
          },
          "metadata": {
            "tags": []
          },
          "execution_count": 70
        }
      ]
    },
    {
      "cell_type": "code",
      "metadata": {
        "id": "gaq2uDF1Fr1x",
        "colab": {
          "base_uri": "https://localhost:8080/",
          "height": 0
        },
        "outputId": "8ba6a37f-07b0-44f0-8929-d0783db21812"
      },
      "source": [
        "## Multiplication\r\n",
        "np.multiply(x2,x1)"
      ],
      "execution_count": 71,
      "outputs": [
        {
          "output_type": "execute_result",
          "data": {
            "text/plain": [
              "array([[ 9, 36, 64],\n",
              "       [ 3, 12, 24],\n",
              "       [ 0, 54, 64]])"
            ]
          },
          "metadata": {
            "tags": []
          },
          "execution_count": 71
        }
      ]
    },
    {
      "cell_type": "code",
      "metadata": {
        "id": "nmZ5be7lFup5",
        "colab": {
          "base_uri": "https://localhost:8080/",
          "height": 0
        },
        "outputId": "240dd78f-d26c-494f-8972-04e75ef57670"
      },
      "source": [
        "## Division\r\n",
        "np.divide(x1,y1)"
      ],
      "execution_count": 72,
      "outputs": [
        {
          "output_type": "execute_result",
          "data": {
            "text/plain": [
              "array([1.5       , 1.5       , 1.33333333])"
            ]
          },
          "metadata": {
            "tags": []
          },
          "execution_count": 72
        }
      ]
    },
    {
      "cell_type": "markdown",
      "metadata": {
        "id": "teroH5PJF1Fw"
      },
      "source": [
        "## Transpose of a Matrix\r\n",
        "One of the fundamental operations in matrix algebra is Transposition. The transpose of a matrix is done by flipping the values of its elements over its diagonals. With this, the rows and columns from the original matrix will be switched. So for a matrix $A$ its transpose is denoted as $A^T$. So for example:\r\n",
        "\r\n",
        "$$A = \\begin{bmatrix} 1 & 2 & 5\\\\5 & -1 &0 \\\\ 0 & -3 & 3\\end{bmatrix} $$\r\n",
        "$$ A^T = \\begin{bmatrix} 1 & 5 & 0\\\\2 & -1 &-3 \\\\ 5 & 0 & 3\\end{bmatrix}$$\r\n",
        "This can now be achieved programmatically by using `np.transpose()` or using the `T` method.<br>\r\n",
        "Check out:\r\n",
        "* [`np.transpose`](https://numpy.org/doc/stable/reference/generated/numpy.transpose.html)\r\n"
      ]
    },
    {
      "cell_type": "code",
      "metadata": {
        "id": "GbI3wbxTF3pJ",
        "colab": {
          "base_uri": "https://localhost:8080/",
          "height": 0
        },
        "outputId": "20224137-8f23-41d9-8ddd-a90710b55484"
      },
      "source": [
        "a=np.array([[1,2,0],[-1,-2,0],[0,2,3]])\r\n",
        "print(a.T)"
      ],
      "execution_count": 73,
      "outputs": [
        {
          "output_type": "stream",
          "text": [
            "[[ 1 -1  0]\n",
            " [ 2 -2  2]\n",
            " [ 0  0  3]]\n"
          ],
          "name": "stdout"
        }
      ]
    },
    {
      "cell_type": "markdown",
      "metadata": {
        "id": "66BnVMxeF5rB"
      },
      "source": [
        "## Vector Product\r\n",
        "The inner product of a vector is the sum of the products of each element of the vectors. So given vectors $H$ and $G$ below:\r\n",
        "$$H=\\begin{bmatrix}1\\\\3\\\\6\\end{bmatrix}, G = \\begin{bmatrix}5\\\\2\\\\1\\end{bmatrix}$$\r\n",
        "We first take the element-wise product of the vectors:\r\n",
        "$$H*G = \\begin{bmatrix}5\\\\6\\\\6\\end{bmatrix}$$\r\n",
        "Then we take the sum of the products, making it the inner product of a vector:\r\n",
        "$$H\\cdot G = 17$$\r\n",
        "You can solve for the inner product using an explicit function, `np.inner()` or the `@` operator.<br>\r\n",
        "Check out:\r\n",
        "* [`np.inner`](https://numpy.org/doc/stable/reference/generated/numpy.inner.html)"
      ]
    },
    {
      "cell_type": "code",
      "metadata": {
        "id": "-m73UfOQF764",
        "colab": {
          "base_uri": "https://localhost:8080/",
          "height": 0
        },
        "outputId": "fce225e9-cf12-4f72-b54a-66c953773935"
      },
      "source": [
        "np.inner(x2,y2)\r\n",
        "x2@y2"
      ],
      "execution_count": 74,
      "outputs": [
        {
          "output_type": "execute_result",
          "data": {
            "text/plain": [
              "array([[30, 42, 78],\n",
              "       [10, 14, 27],\n",
              "       [36, 45, 78]])"
            ]
          },
          "metadata": {
            "tags": []
          },
          "execution_count": 74
        }
      ]
    },
    {
      "cell_type": "markdown",
      "metadata": {
        "id": "1yvij6t2F90h"
      },
      "source": [
        "In matrix dot products, we are going to get the sum of products of the vectors by row-column pairs. So if we have two matrices $X$ and $Y$:\r\n",
        "\r\n",
        "$$X = \\begin{bmatrix}x_{(0,0)}&x_{(0,1)}\\\\ x_{(1,0)}&x_{(1,1)}\\end{bmatrix}, Y = \\begin{bmatrix}y_{(0,0)}&y_{(0,1)}\\\\ y_{(1,0)}&y_{(1,1)}\\end{bmatrix}$$\r\n",
        "\r\n",
        "The dot product will then be computed as:\r\n",
        "$$X \\cdot Y= \\begin{bmatrix} x_{(0,0)}*y_{(0,0)} + x_{(0,1)}*y_{(1,0)} & x_{(0,0)}*y_{(0,1)} + x_{(0,1)}*y_{(1,1)} \\\\  x_{(1,0)}*y_{(0,0)} + x_{(1,1)}*y_{(1,0)} & x_{(1,0)}*y_{(0,1)} + x_{(1,1)}*y_{(1,1)}\r\n",
        "\\end{bmatrix}$$\r\n",
        "\r\n",
        "So if we assign values to $X$ and $Y$:\r\n",
        "$$X = \\begin{bmatrix}1&2\\\\0&1\\end{bmatrix}, Y = \\begin{bmatrix}-1&0\\\\ 2&2\\end{bmatrix}$$\r\n",
        "Check out:\r\n",
        "* [`np.dot`](https://numpy.org/doc/stable/reference/generated/numpy.inner.html)"
      ]
    },
    {
      "cell_type": "code",
      "metadata": {
        "id": "HdKvvQ4IF-Ep",
        "colab": {
          "base_uri": "https://localhost:8080/",
          "height": 0
        },
        "outputId": "95ce6c65-b954-4fb1-dfd8-2b78d7f791f5"
      },
      "source": [
        "print(np.dot(x2,y2))\r\n"
      ],
      "execution_count": 75,
      "outputs": [
        {
          "output_type": "stream",
          "text": [
            "[[30 42 78]\n",
            " [10 14 27]\n",
            " [36 45 78]]\n"
          ],
          "name": "stdout"
        }
      ]
    },
    {
      "cell_type": "markdown",
      "metadata": {
        "id": "_oK1tJptGAER"
      },
      "source": [
        "In matrix dot products there are additional rules compared with vector dot products. Since vector dot products were just in one dimension, there are fewer restrictions. Since now we are dealing with Rank 2 vectors we need to consider some rules:\r\n",
        "\r\n",
        "**Rule 1: The inner dimensions of the two matrices in question must be the same.**\r\n",
        "\r\n",
        "So given a matrix $A$ with a shape of $(a,b)$ where $a$ and $b$ are any integers. If we want to do a dot product between $A$ and another matrix $B$, then matrix $B$ should have a shape of $(b,c)$ where $b$ and $c$ are any integers. So for given the following matrices:\r\n",
        "\r\n",
        "$$A = \\begin{bmatrix}2&4\\\\5&-2\\\\0&1\\end{bmatrix}, B = \\begin{bmatrix}1&1\\\\3&3\\\\-1&-2\\end{bmatrix}, C = \\begin{bmatrix}0&1&1\\\\1&1&2\\end{bmatrix}$$\r\n",
        "\r\n",
        "So in this case $A$ has a shape of $(3,2)$, $B$ has a shape of $(3,2)$ and $C$ has a shape of $(2,3)$. So the only matrix pairs that is eligible to perform dot product is matrices $A \\cdot C$, or $B \\cdot C$.  "
      ]
    },
    {
      "cell_type": "code",
      "metadata": {
        "id": "JxDIYsPcGF3p"
      },
      "source": [
        "A=np.array([\r\n",
        "    [2,4],\r\n",
        "    [5,-2],\r\n",
        "    [0,1]\r\n",
        "    ])\r\n",
        "B=np.array([\r\n",
        "    [1,1],\r\n",
        "    [3,3],\r\n",
        "    [-1,-2]\r\n",
        "    ])\r\n",
        "C=np.array([\r\n",
        "    [0,1.1],\r\n",
        "    [1,1.2]\r\n",
        "    ])"
      ],
      "execution_count": 76,
      "outputs": []
    },
    {
      "cell_type": "markdown",
      "metadata": {
        "id": "MfSjkrITGGOZ"
      },
      "source": [
        "**Rule 2: Dot Product has special properties**\r\n",
        "\r\n",
        "Dot products are prevalent in matrix algebra, this implies that it has several unique properties and it should be considered when formulation solutions:\r\n",
        " 1. $A \\cdot B \\neq B \\cdot A$\r\n",
        " 2. $A \\cdot (B \\cdot C) = (A \\cdot B) \\cdot C$\r\n",
        " 3. $A\\cdot(B+C) = A\\cdot B + A\\cdot C$\r\n",
        " 4. $(B+C)\\cdot A = B\\cdot A + C\\cdot A$\r\n",
        " 5. $A\\cdot I = A$\r\n",
        " 6. $A\\cdot \\emptyset = \\emptyset$ "
      ]
    },
    {
      "cell_type": "code",
      "metadata": {
        "id": "g4dRHPVOGlig"
      },
      "source": [
        "A = np.array([\r\n",
        "    [1 ,2,0],\r\n",
        "    [2, 0,21],\r\n",
        "    [3,-3, 3]\r\n",
        "])\r\n",
        "B = np.array([\r\n",
        "    [-2 ,2,3],\r\n",
        "    [-1, 4,-1], \r\n",
        "    [-2, -2,-2]\r\n",
        "])\r\n",
        "C = np.array([\r\n",
        "    [1 ,1,1],\r\n",
        "    [2, 2,2], \r\n",
        "    [2,3,3]\r\n",
        "])\r\n",
        "I= np.array(A.dot(np.linalg.inv(A)), dtype=int)\r\n",
        "\r\n"
      ],
      "execution_count": 77,
      "outputs": []
    },
    {
      "cell_type": "code",
      "metadata": {
        "colab": {
          "base_uri": "https://localhost:8080/",
          "height": 0
        },
        "id": "vEWZgFbZj3TM",
        "outputId": "f130b118-1379-4b86-acb5-f7bbf37cdb27"
      },
      "source": [
        "np.array_equiv(A.dot(B), B.dot(A))"
      ],
      "execution_count": 78,
      "outputs": [
        {
          "output_type": "execute_result",
          "data": {
            "text/plain": [
              "False"
            ]
          },
          "metadata": {
            "tags": []
          },
          "execution_count": 78
        }
      ]
    },
    {
      "cell_type": "code",
      "metadata": {
        "colab": {
          "base_uri": "https://localhost:8080/",
          "height": 0
        },
        "id": "deIVbudgj3MG",
        "outputId": "28851c8c-ce61-4121-9e85-f0dbececefea"
      },
      "source": [
        "np.array_equiv((A @ (B @ C)),((A @ B) @C))"
      ],
      "execution_count": 79,
      "outputs": [
        {
          "output_type": "execute_result",
          "data": {
            "text/plain": [
              "True"
            ]
          },
          "metadata": {
            "tags": []
          },
          "execution_count": 79
        }
      ]
    },
    {
      "cell_type": "code",
      "metadata": {
        "colab": {
          "base_uri": "https://localhost:8080/",
          "height": 0
        },
        "id": "5pR3rk3Tj3HM",
        "outputId": "3f3d6326-ec2c-49c9-fa62-7b6687e79826"
      },
      "source": [
        "np.array_equiv(A.dot(B+C), A.dot(B)+A.dot(C))"
      ],
      "execution_count": 80,
      "outputs": [
        {
          "output_type": "execute_result",
          "data": {
            "text/plain": [
              "True"
            ]
          },
          "metadata": {
            "tags": []
          },
          "execution_count": 80
        }
      ]
    },
    {
      "cell_type": "code",
      "metadata": {
        "colab": {
          "base_uri": "https://localhost:8080/",
          "height": 0
        },
        "id": "sE3msWFcj289",
        "outputId": "1fcb35b3-3597-47a3-d195-d36fa516e6ac"
      },
      "source": [
        "np.array_equiv((B+C).dot(A), B.dot(A)+C.dot(A))"
      ],
      "execution_count": 81,
      "outputs": [
        {
          "output_type": "execute_result",
          "data": {
            "text/plain": [
              "True"
            ]
          },
          "metadata": {
            "tags": []
          },
          "execution_count": 81
        }
      ]
    },
    {
      "cell_type": "code",
      "metadata": {
        "colab": {
          "base_uri": "https://localhost:8080/",
          "height": 0
        },
        "id": "TblJ2Nl0kCtM",
        "outputId": "d385a4bb-9386-4b75-f57d-bc641502f0fe"
      },
      "source": [
        "np.array_equal(A.dot(I), A)"
      ],
      "execution_count": 82,
      "outputs": [
        {
          "output_type": "execute_result",
          "data": {
            "text/plain": [
              "False"
            ]
          },
          "metadata": {
            "tags": []
          },
          "execution_count": 82
        }
      ]
    },
    {
      "cell_type": "code",
      "metadata": {
        "colab": {
          "base_uri": "https://localhost:8080/",
          "height": 0
        },
        "id": "YhveQjC2kN3z",
        "outputId": "db7c29fe-5297-4e58-c1a7-b195629baf5c"
      },
      "source": [
        "a_dot_z = A.dot(np.zeros(A.shape))\r\n",
        "a_dot_z"
      ],
      "execution_count": 83,
      "outputs": [
        {
          "output_type": "execute_result",
          "data": {
            "text/plain": [
              "array([[0., 0., 0.],\n",
              "       [0., 0., 0.],\n",
              "       [0., 0., 0.]])"
            ]
          },
          "metadata": {
            "tags": []
          },
          "execution_count": 83
        }
      ]
    },
    {
      "cell_type": "code",
      "metadata": {
        "colab": {
          "base_uri": "https://localhost:8080/",
          "height": 0
        },
        "id": "mUJFrKXukOh1",
        "outputId": "e31be85c-4b4c-4ca1-e2df-001b18f79517"
      },
      "source": [
        "z_mat = np.zeros(A.shape)\r\n",
        "z_mat"
      ],
      "execution_count": 84,
      "outputs": [
        {
          "output_type": "execute_result",
          "data": {
            "text/plain": [
              "array([[0., 0., 0.],\n",
              "       [0., 0., 0.],\n",
              "       [0., 0., 0.]])"
            ]
          },
          "metadata": {
            "tags": []
          },
          "execution_count": 84
        }
      ]
    },
    {
      "cell_type": "code",
      "metadata": {
        "colab": {
          "base_uri": "https://localhost:8080/",
          "height": 0
        },
        "id": "wDIqt3w_kVQT",
        "outputId": "2984d170-1ee6-4172-c7bb-b66a5c603a2d"
      },
      "source": [
        "np.array_equal(a_dot_z,z_mat)"
      ],
      "execution_count": 85,
      "outputs": [
        {
          "output_type": "execute_result",
          "data": {
            "text/plain": [
              "True"
            ]
          },
          "metadata": {
            "tags": []
          },
          "execution_count": 85
        }
      ]
    },
    {
      "cell_type": "markdown",
      "metadata": {
        "id": "TWPkRauxkXd0"
      },
      "source": [
        ""
      ]
    },
    {
      "cell_type": "markdown",
      "metadata": {
        "id": "IMysYX4QGiuQ"
      },
      "source": [
        "## Determinants\r\n",
        "A determinant is a scalar value derived from a square matrix. The determinant is a fundamental and important value used in matrix algebra. \r\n",
        "\r\n",
        "The determinant of some matrix $A$ is denoted as $det(A)$ or $|A|$. So let's say $A$ is represented as:\r\n",
        "$$A = \\begin{bmatrix}a_{(0,0)}&a_{(0,1)}\\\\a_{(1,0)}&a_{(1,1)}\\end{bmatrix}$$\r\n",
        "We can compute for the determinant as:\r\n",
        "$$|A| = a_{(0,0)}*a_{(1,1)} - a_{(1,0)}*a_{(0,1)}$$\r\n",
        "So if we have $A$ as:\r\n",
        "$$A = \\begin{bmatrix}1&4\\\\0&3\\end{bmatrix}, |A| = 3$$\r\n",
        "\r\n",
        "But you might wonder how about square matrices beyond the shape $(2,2)$? We can approach this problem by using several methods such as co-factor expansion and the minors method. This can be taught in the lecture of the laboratory but we can achieve the strenuous computation of high-dimensional matrices programmatically using Python. We can achieve this by using [`np.linalg.det`](https://numpy.org/doc/stable/reference/generated/numpy.linalg.det.html)."
      ]
    },
    {
      "cell_type": "code",
      "metadata": {
        "id": "Sj5X1o_mGIRg",
        "colab": {
          "base_uri": "https://localhost:8080/",
          "height": 0
        },
        "outputId": "4e0a0679-1f16-43d9-a79d-992865d7f14d"
      },
      "source": [
        "np.linalg.det(x2)"
      ],
      "execution_count": 86,
      "outputs": [
        {
          "output_type": "execute_result",
          "data": {
            "text/plain": [
              "-9.000000000000005"
            ]
          },
          "metadata": {
            "tags": []
          },
          "execution_count": 86
        }
      ]
    },
    {
      "cell_type": "markdown",
      "metadata": {
        "id": "7j3EPb9ZGsdI"
      },
      "source": [
        "## 2.6 Matrix Inverse\r\n",
        "\r\n",
        "The inverse of a matrix is another fundamental operation in matrix algebra. Determining the inverse of a matrix let us determine if its solvability and its characteristic as a system of linear equation. Another use of the inverse matrix is solving the problem of divisibility between matrices. Although element-wise division exist but dividing the entire concept of matrices does not exists. Inverse matrices provide a related operation that could have the same concept of \"dividing\" matrices.\r\n",
        "\r\n",
        "Now to determine the inverse of a matrix we need to perform several steps. So let's say we have a matrix $M$:\r\n",
        "$$M = \\begin{bmatrix}1&7\\\\-3&5\\end{bmatrix}$$\r\n",
        "First, we need to get the determinant of $M$.\r\n",
        "$$|M| = (1)(5)-(-3)(7) = 26$$\r\n",
        "Next, we need to reform the matrix into the inverse form:\r\n",
        "$$M^{-1} = \\frac{1}{|M|} \\begin{bmatrix} m_{(1,1)} & -m_{(0,1)} \\\\ -m_{(1,0)} & m_{(0,0)}\\end{bmatrix}$$\r\n",
        "So that will be:\r\n",
        "$$M^{-1} = \\frac{1}{26} \\begin{bmatrix} 5 & -7 \\\\ 3 & 1\\end{bmatrix} = \\begin{bmatrix} \\frac{5}{26} & \\frac{-7}{26} \\\\ \\frac{3}{26} & \\frac{1}{26}\\end{bmatrix}$$\r\n",
        "For higher-dimension matrices, you might need to use co-factors, minors, adjugates, and other reduction techniques. To solve this programmatically we can use [`np.linalg.inv`](https://numpy.org/doc/stable/reference/generated/numpy.linalg.inv.html).\r\n",
        "\r\n",
        "To validate the wether if the matric that you have solved is really the inverse, we follow this dot product property for a matrix $M$:\r\n",
        "$$M\\cdot M^{-1} = I$$"
      ]
    },
    {
      "cell_type": "code",
      "metadata": {
        "id": "no8zVYLmGuJ9"
      },
      "source": [
        ""
      ],
      "execution_count": 86,
      "outputs": []
    },
    {
      "cell_type": "markdown",
      "metadata": {
        "id": "hmNLmGPvGuig"
      },
      "source": [
        "# System of Linear Equations\r\n",
        "\r\n",
        "Solving linear equations is one of the fundamental skills of higher engineering mathematics. Aside from solving them, we must be skilled enough to spot them in the wild as well.\r\n",
        "\r\n",
        "Given an equation:\r\n",
        "$$\r\n",
        "B = \\left\\{\r\n",
        "    \\begin{array}\\\\\r\n",
        "        x+y+z=1\\\\ \r\n",
        "        3x -2y -z=4 \\\\\r\n",
        "        -x + 4y +2z=-3\r\n",
        "    \\end{array}\r\n",
        "\\right. $$\r\n",
        "\r\n",
        "We can represent it in matrix form considering the linear combination of the equations. We can also think of its dot product form:\r\n",
        "$$\r\n",
        "\\begin{bmatrix}1&1&1\\\\3&-2&-1\\\\-1&4&2\\end{bmatrix} \\cdot \\begin{bmatrix}x\\\\ y\\\\ z\\end{bmatrix} = \\begin{bmatrix}1\\\\4\\\\-3\\end{bmatrix}\r\n",
        "$$\r\n",
        "We can make a general form for this equation by putting our matrices and vectors as variables. So let's say that the matrix $\\begin{bmatrix}1&1&1\\\\3&-2&-1\\\\-1&4&2\\end{bmatrix}$ is $X$ and $\\begin{bmatrix}x\\\\ y\\\\ z\\end{bmatrix} = \\begin{bmatrix}x\\\\y\\\\z\\end{bmatrix}$ is the vector $r$ then the answer $\\begin{bmatrix}1\\\\4\\\\-3\\end{bmatrix}$ as $Y$. So we'll have:\r\n",
        "$$\r\n",
        "X r = Y\r\n",
        "$$\r\n",
        "Our goal is to solve for $r$ so we can solve it algebraically by multiplying both sides with the inverse of $X$, so we'll get:\r\n",
        "$$\r\n",
        "X^{-1}X r = X^{-1}Y\\\\\r\n",
        "Ir = X^{-1}Y\\\\\r\n",
        "r = X^{-1}Y\r\n",
        "$$\r\n",
        "We'll take $r = X^{-1}Y$ as the $\\textbf{vectorized}$ equation as our formula in solving for the vector $r$ or simply solving for $x,y,$and$z$. We can then code that as:"
      ]
    },
    {
      "cell_type": "code",
      "metadata": {
        "id": "GzoKTOWMG8Hh"
      },
      "source": [
        ""
      ],
      "execution_count": 86,
      "outputs": []
    },
    {
      "cell_type": "markdown",
      "metadata": {
        "id": "h9cOTHv2IpS4"
      },
      "source": [
        "### Visualizing Vectors\r\n",
        "\r\n",
        "So far I know you have been experiencing mathematical exhaustion due to all these mathematical expressions. Allow me to show you a tad more interesting side of Linear Algebra.\r\n",
        "\r\n",
        "Undoubtedly, one of the most interesting and frustrating parts of Data Analysts and Data Scientist is visualizing data. Although we will be visualizing more on matrices and tensors. So, bear with me here and I'll try to spark a bit of interest in you guys. "
      ]
    },
    {
      "cell_type": "code",
      "metadata": {
        "id": "Q2hEQblFIsAo"
      },
      "source": [
        "### If you haven't installed it use:\r\n",
        "#!pip install matplotlib\r\n",
        "\r\n",
        "import matplotlib.pyplot as plt"
      ],
      "execution_count": 87,
      "outputs": []
    },
    {
      "cell_type": "markdown",
      "metadata": {
        "id": "yTjmJzzfItuQ"
      },
      "source": [
        "#### <i>2D Cartersian Plots</i>\r\n",
        "Check out:\r\n",
        "* [`matplotlib.pyplot.xlim`](https://matplotlib.org/3.3.3/api/_as_gen/matplotlib.pyplot.xlim.html)\r\n",
        "* [`matplotlib.pyplot.ylim`](https://matplotlib.org/3.3.3/api/_as_gen/matplotlib.pyplot.ylim.html)\r\n",
        "* [`matplotlib.pyplot.quiver`](https://matplotlib.org/3.3.3/api/_as_gen/matplotlib.pyplot.quiver.html)\r\n",
        "* [`matplotlib.pyplot.grid`](https://matplotlib.org/3.3.3/api/_as_gen/matplotlib.pyplot.grid.html)\r\n",
        "* [`matplotlib.pyplot.show`](https://matplotlib.org/3.3.3/api/_as_gen/matplotlib.pyplot.show.html)"
      ]
    },
    {
      "cell_type": "code",
      "metadata": {
        "id": "hg52Q9AKIvbI",
        "colab": {
          "base_uri": "https://localhost:8080/",
          "height": 282
        },
        "outputId": "9b2ad741-3b75-4cf5-95e4-c70fee1c1969"
      },
      "source": [
        "A = np.array([4, 3])\r\n",
        "B = np.array([2, -5])\r\n",
        "\r\n",
        "# plt.xlim(-15, 15)\r\n",
        "# plt.ylim(-15, 15)\r\n",
        "plt.quiver(0,0, A[0], A[1], angles='xy', scale_units='xy',scale=1, color='red') # Red --> A\r\n",
        "plt.quiver(A[0], A[1], B[0], B[1], angles='xy', scale_units='xy',scale=1, color='b') # Blue --> B\r\n",
        "R = A + B\r\n",
        "print(R)\r\n",
        "\r\n",
        "# plt.grid()\r\n",
        "# plt.show()\r\n"
      ],
      "execution_count": 88,
      "outputs": [
        {
          "output_type": "stream",
          "text": [
            "[ 6 -2]\n"
          ],
          "name": "stdout"
        },
        {
          "output_type": "display_data",
          "data": {
            "image/png": "[encoded data removed]",
            "text/plain": [
              "<Figure size 432x288 with 1 Axes>"
            ]
          },
          "metadata": {
            "tags": [],
            "needs_background": "light"
          }
        }
      ]
    },
    {
      "cell_type": "markdown",
      "metadata": {
        "id": "06hJJe31I85Y"
      },
      "source": [
        "## Practice 1: Modulus of a Vector\r\n",
        "The modulus of a vector or the magnitude of a vector can be determined using the Pythagorean theorem. Given the vector $A$ and its scalars denoted as $a_n$ where $n$ is the index of the scalar. So if we have:\r\n",
        "$$A = \\begin{bmatrix}1\\\\2\\end{bmatrix}$$\r\n",
        "We can compute the magnitude as:\r\n",
        "$$||A|| = \\sqrt{a_1^2 + a_2^2} = \\sqrt{1^2 + 2^2} = \\sqrt{5}$$\r\n",
        "So if we have a matrix with more parameters such as:\r\n",
        "$$B=\\begin{bmatrix}2\\\\5\\\\-1\\\\0\\end{bmatrix}$$\r\n",
        "We can generalize the Pythagorean theorem to compute for the magnitude as:\r\n",
        "$$||B|| = \\sqrt{b_1^2 + b_2^2 + b_3^2 + ... +b_n^2} = \\sqrt{\\sum_{n=1}^{N}b_n^2}$$\r\n",
        "And this equation is now called a Euclidian distance or the Euclidean Norm. "
      ]
    },
    {
      "cell_type": "code",
      "metadata": {
        "id": "7-lygw4SjPg-"
      },
      "source": [
        "def euclidian(scalar):\r\n",
        "    print(f'The Eucledian Distance of Scalar: {scalar} is:{np.linalg.norm(scalar)}')"
      ],
      "execution_count": 89,
      "outputs": []
    },
    {
      "cell_type": "code",
      "metadata": {
        "id": "evLYDA2dI9XQ",
        "colab": {
          "base_uri": "https://localhost:8080/",
          "height": 0
        },
        "outputId": "8a22bee2-576a-49f8-97a0-562098a76a0b"
      },
      "source": [
        "A=np.array([1,2])\r\n",
        "B=np.array([2,5,-1,0])\r\n",
        "\r\n",
        "print(euclidian(A))\r\n",
        "print(euclidian(B))"
      ],
      "execution_count": 90,
      "outputs": [
        {
          "output_type": "stream",
          "text": [
            "The Eucledian Distance of Scalar: [1 2] is:2.23606797749979\n",
            "None\n",
            "The Eucledian Distance of Scalar: [ 2  5 -1  0] is:5.477225575051661\n",
            "None\n"
          ],
          "name": "stdout"
        }
      ]
    },
    {
      "cell_type": "markdown",
      "metadata": {
        "id": "BrzGwH5cI-Aw"
      },
      "source": [
        "## Practice 2: The Sigmoid\r\n",
        "The sigmoid function is one of the popular Activation Functions which we will discuss later on. The sigmoid is a bounded, differentiable, real function in which its range would be any value from 0 to 1. It is widely used in binary classifications.\r\n",
        "![image](https://upload.wikimedia.org/wikipedia/commons/thumb/8/88/Logistic-curve.svg/1200px-Logistic-curve.svg.png)\r\n",
        "If we were to check the equation characterizing this curve in textbooks or journals it would be:\r\n",
        "$$sig(x)=\\frac{1}{1+e^{-x}}$$\r\n",
        "or\r\n",
        "$$\\sigma(x)=\\frac{1}{1+e^{-x}}$$\r\n",
        "So let's try to translate this in NumPy. You might want to use [`numpy.exp`](https://numpy.org/doc/stable/reference/generated/numpy.exp.html) for this function. <br>\r\n",
        "If you want to read more about the sigmoid function click [here](https://medium.com/@himanshuxd/activation-functions-sigmoid-relu-leaky-relu-and-softmax-basics-for-neural-networks-and-deep-8d9c70eed91e)."
      ]
    },
    {
      "cell_type": "code",
      "metadata": {
        "id": "1mTeJLMoywa4"
      },
      "source": [
        "def f(x): return x**3+3*x**2+-4*x"
      ],
      "execution_count": 91,
      "outputs": []
    },
    {
      "cell_type": "code",
      "metadata": {
        "id": "4UTUaj1pJAH3",
        "colab": {
          "base_uri": "https://localhost:8080/",
          "height": 428
        },
        "outputId": "493473f0-0707-402c-98c4-4dedbf41d65d"
      },
      "source": [
        "def sigmoid(x):\r\n",
        "    return 1/(1 + np.exp(-x))\r\n",
        "x=np.linspace(-6,6,50)\r\n",
        "z = 1/(1 + np.exp(-x))\r\n",
        "sigmoid(x)\r\n",
        "fig, ax = plt.subplots(figsize=(10, 7))\r\n",
        "ax.spines['left'].set_position('center')\r\n",
        "ax.spines['right'].set_color('none')\r\n",
        "ax.spines['top'].set_color('none')\r\n",
        "ax.xaxis.set_ticks_position('bottom')\r\n",
        "ax.yaxis.set_ticks_position('left')\r\n",
        "plt.plot(x,z)\r\n",
        "plt.show()"
      ],
      "execution_count": 92,
      "outputs": [
        {
          "output_type": "display_data",
          "data": {
            "image/png": "[encoded data removed]",
            "text/plain": [
              "<Figure size 720x504 with 1 Axes>"
            ]
          },
          "metadata": {
            "tags": [],
            "needs_background": "light"
          }
        }
      ]
    },
    {
      "cell_type": "markdown",
      "metadata": {
        "id": "V40-kOflvx6o"
      },
      "source": [
        "##References:\r\n",
        "[1] stackoverflowP,ython beginner, understanding some code,2021<br>\r\n",
        "[2]himanshu s,Activation Functions : Sigmoid, ReLU, Leaky ReLU and Softmax basics for Neural Networks and Deep Learning,2021<br>\r\n",
        "[3]Towards Data Science,Simple Neural Networks in Python,2021<br>\r\n",
        "[4]khayle embuscado,LinearAlgebra\r\n",
        "Laboratory 7 : Matrix Operations,2020\r\n"
      ]
    }
  ]
}